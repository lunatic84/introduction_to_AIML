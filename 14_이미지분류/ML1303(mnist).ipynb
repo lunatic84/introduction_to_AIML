{
  "cells": [
    {
      "cell_type": "code",
      "execution_count": 1,
      "id": "d7d6e9b4",
      "metadata": {
        "id": "d7d6e9b4"
      },
      "outputs": [],
      "source": [
        "import numpy as np\n",
        "import tensorflow as tf\n",
        "import matplotlib.pyplot as plt\n",
        "from keras.models import load_model\n",
        "from PIL import Image\n",
        "from tensorflow import keras\n",
        "from tensorflow.keras import Sequential\n",
        "from tensorflow.keras.layers import Dense\n",
        "from tensorflow.keras.layers import Flatten\n",
        "from sklearn.model_selection import train_test_split"
      ]
    },
    {
      "cell_type": "code",
      "source": [
        "image_width =28\n",
        "image_height =28"
      ],
      "metadata": {
        "id": "Z0PGoOLyXPUa"
      },
      "id": "Z0PGoOLyXPUa",
      "execution_count": 2,
      "outputs": []
    },
    {
      "cell_type": "code",
      "source": [
        "class train_control_Callback(tf.keras.callbacks.Callback):\n",
        "    def on_epoch_end(self, epoch, logs={}):\n",
        "        if logs.get('loss') < 0.3:\n",
        "            print('\\n 훈련을 중단합니다')\n",
        "            self.model.stop_training = True\n",
        "callbacks = train_control_Callback()        "
      ],
      "metadata": {
        "id": "7kTNZksQXhIC"
      },
      "id": "7kTNZksQXhIC",
      "execution_count": 3,
      "outputs": []
    },
    {
      "cell_type": "code",
      "source": [
        "mnist = keras.datasets.mnist\n",
        "(train_images, train_labels), (test_images, test_labels) = mnist.load_data()\n",
        "print(train_images.ndim, train_labels.ndim, '\\n')\n",
        "print(train_images.shape, train_labels.shape, '\\n')\n",
        "print(test_images.shape, test_labels.shape, '\\n')"
      ],
      "metadata": {
        "id": "YHB2iC1w_nZ0",
        "colab": {
          "base_uri": "https://localhost:8080/"
        },
        "outputId": "dd3ebbce-f0f2-4b02-8a08-cc39a8ba4e97"
      },
      "id": "YHB2iC1w_nZ0",
      "execution_count": 4,
      "outputs": [
        {
          "output_type": "stream",
          "name": "stdout",
          "text": [
            "Downloading data from https://storage.googleapis.com/tensorflow/tf-keras-datasets/mnist.npz\n",
            "11490434/11490434 [==============================] - 0s 0us/step\n",
            "3 1 \n",
            "\n",
            "(60000, 28, 28) (60000,) \n",
            "\n",
            "(10000, 28, 28) (10000,) \n",
            "\n"
          ]
        }
      ]
    },
    {
      "cell_type": "code",
      "source": [
        "train_images, val_images, train_labels, val_labels = train_test_split(train_images, train_labels, stratify = train_labels, test_size = 0.2, random_state =25)\n",
        "print(train_images.shape, val_images.shape)"
      ],
      "metadata": {
        "id": "pMikCsa_KFP_",
        "colab": {
          "base_uri": "https://localhost:8080/"
        },
        "outputId": "718ad8a1-1c96-48ae-f325-ea613e057ef7"
      },
      "id": "pMikCsa_KFP_",
      "execution_count": 5,
      "outputs": [
        {
          "output_type": "stream",
          "name": "stdout",
          "text": [
            "(48000, 28, 28) (12000, 28, 28)\n"
          ]
        }
      ]
    },
    {
      "cell_type": "code",
      "source": [
        "print(train_images[0])\n",
        "print(train_labels[0])\n",
        "plt.rcParams[\"figure.figsize\"] =(3,3)\n",
        "plt.imshow(train_images[0])\n",
        "plt.show()"
      ],
      "metadata": {
        "id": "jrSiSRt4MBow",
        "colab": {
          "base_uri": "https://localhost:8080/",
          "height": 1000
        },
        "outputId": "b18abf08-4353-4ef6-e8ec-e1853d9b3cf4"
      },
      "id": "jrSiSRt4MBow",
      "execution_count": 6,
      "outputs": [
        {
          "output_type": "stream",
          "name": "stdout",
          "text": [
            "[[  0   0   0   0   0   0   0   0   0   0   0   0   0   0   0   0   0   0\n",
            "    0   0   0   0   0   0   0   0   0   0]\n",
            " [  0   0   0   0   0   0   0   0   0   0   0   0   0   0   0   0   0   0\n",
            "    0   0   0   0   0   0   0   0   0   0]\n",
            " [  0   0   0   0   0   0   0   0   0   0   0   0   0   0   0   0   0   0\n",
            "    0   0   0   0   0   0   0   0   0   0]\n",
            " [  0   0   0   0   0   0   0   0   0   0   0   0   0   0   0   0   0   0\n",
            "    0   0   0   0   0   0   0   0   0   0]\n",
            " [  0   0   0   0   0   0   0   0   0   0   0   0   0   0   0   0   0   0\n",
            "    0   0   0   0   0   0   0   0   0   0]\n",
            " [  0   0   0   0   0   0  16 191 253 253 170 170 192 191 109  47   0   0\n",
            "    0   0   0   0   0   0   0   0   0   0]\n",
            " [  0   0   0   0   0   0  26 221 252 252 252 252 253 252 252 232 156  52\n",
            "    0   0   0   0   0   0   0   0   0   0]\n",
            " [  0   0   0   0   0   0   0 125 215 215 215 215 217 247 252 252 253 231\n",
            "   78  37   0   0   0   0   0   0   0   0]\n",
            " [  0   0   0   0   0   0   0   0   0   0   0   0   0  93 128 252 253 252\n",
            "  252 252 145  20   0   0   0   0   0   0]\n",
            " [  0   0   0   0   0   0   0   0   0   0   0   0   0   0   0   0 109 252\n",
            "  252 252 253 179   0   0   0   0   0   0]\n",
            " [  0   0   0   0   0   0   0   0   0   0   0   0   0   0  53  73 233 252\n",
            "  252 252 253 138   0   0   0   0   0   0]\n",
            " [  0   0   0   0   0   0   0   0   0  73 181 181 182 181 232 252 253 252\n",
            "  252 252  72  10   0   0   0   0   0   0]\n",
            " [  0   0   0   0   0   0   0   0   0 217 252 252 253 252 252 252 253 252\n",
            "  148 108   0   0   0   0   0   0   0   0]\n",
            " [  0   0   0   0   0   0   0   0   0  73 253 253 255 253 253 253 255  35\n",
            "    0   0   0   0   0   0   0   0   0   0]\n",
            " [  0   0   0   0   0   0   0   0   0  10  35  35  98 242 252 252 253 180\n",
            "   21   0   0   0   0   0   0   0   0   0]\n",
            " [  0   0   0   0   0   0   0   0   0   0   0   0   0 103 221 252 253 252\n",
            "   92   0   0   0   0   0   0   0   0   0]\n",
            " [  0   0   0   0   0   0   0   0   0   0   0   0   0   0  37 252 253 252\n",
            "  236  62   0   0   0   0   0   0   0   0]\n",
            " [  0   0   0   0   0   0   0   0   0   0   0   0   0   0   0  84 255 253\n",
            "  253 170   0   0   0   0   0   0   0   0]\n",
            " [  0   0   0   0   0   0  53  73   0   0   0   0   0   0   0   0 128 252\n",
            "  252 252   0   0   0   0   0   0   0   0]\n",
            " [  0   0   0   0   0  53 232 252   0   0   0   0   0   0   0   0  94 247\n",
            "  252 252   0   0   0   0   0   0   0   0]\n",
            " [  0   0   0   0   0  73 252 252   0   0   0   0   0   0   0   0   0 217\n",
            "  252 252   0   0   0   0   0   0   0   0]\n",
            " [  0   0   0   0   0   0 120 253 253 211 109 109 110 109  31   0  47 233\n",
            "  253 253   0   0   0   0   0   0   0   0]\n",
            " [  0   0   0   0   0   0   5  35 252 252 252 252 253 252 227 217 233 252\n",
            "  252 252   0   0   0   0   0   0   0   0]\n",
            " [  0   0   0   0   0   0   0   1 153 195 221 252 253 252 252 252 253 252\n",
            "  252 231   0   0   0   0   0   0   0   0]\n",
            " [  0   0   0   0   0   0   0   0   0   0  16 108 108 108 211 252 253 252\n",
            "  148  46   0   0   0   0   0   0   0   0]\n",
            " [  0   0   0   0   0   0   0   0   0   0   0   0   0   0   0   0   0   0\n",
            "    0   0   0   0   0   0   0   0   0   0]\n",
            " [  0   0   0   0   0   0   0   0   0   0   0   0   0   0   0   0   0   0\n",
            "    0   0   0   0   0   0   0   0   0   0]\n",
            " [  0   0   0   0   0   0   0   0   0   0   0   0   0   0   0   0   0   0\n",
            "    0   0   0   0   0   0   0   0   0   0]]\n",
            "3\n"
          ]
        },
        {
          "output_type": "display_data",
          "data": {
            "text/plain": [
              "<Figure size 216x216 with 1 Axes>"
            ],
            "image/png": "[encoded data removed]"
          },
          "metadata": {
            "needs_background": "light"
          }
        }
      ]
    },
    {
      "cell_type": "code",
      "source": [
        "train_images, val_images = train_images/255, val_images/255\n",
        "train_labels = tf.keras.utils.to_categorical(train_labels, num_classes = 10)\n",
        "test_labels = tf.keras.utils.to_categorical(test_labels, num_classes = 10)\n",
        "val_labels = tf.keras.utils.to_categorical(val_labels, num_classes = 10)\n",
        "print(train_labels.shape, val_labels.shape, test_labels.shape)"
      ],
      "metadata": {
        "id": "2MKhgBDQ5B7c",
        "colab": {
          "base_uri": "https://localhost:8080/"
        },
        "outputId": "336dae98-6618-4f15-811b-e1f86906ab81"
      },
      "id": "2MKhgBDQ5B7c",
      "execution_count": 7,
      "outputs": [
        {
          "output_type": "stream",
          "name": "stdout",
          "text": [
            "(48000, 10) (12000, 10) (10000, 10)\n"
          ]
        }
      ]
    },
    {
      "cell_type": "code",
      "source": [
        "nrows = 5\n",
        "ncols = 5\n",
        "plt.rcParams[\"figure.figsize\"] =(10,10)\n",
        "f, axarr = plt.subplots(nrows, ncols)\n",
        "for i in range(nrows*ncols):\n",
        "    sub_plt = axarr[i//nrows, i%ncols]\n",
        "    sub_plt.axis('off')\n",
        "    sub_plt.imshow(train_images[i].reshape(image_width, image_height))\n",
        "    sub_plt_title ='T: ' + str(np.argmax(train_labels[i]))\n",
        "    sub_plt.set_title(sub_plt_title)\n",
        "plt.show()  "
      ],
      "metadata": {
        "id": "T9_e5ZxiOeT-",
        "colab": {
          "base_uri": "https://localhost:8080/",
          "height": 591
        },
        "outputId": "c26827e9-7b46-4e79-cd05-59c6e874cde7"
      },
      "id": "T9_e5ZxiOeT-",
      "execution_count": 8,
      "outputs": [
        {
          "output_type": "display_data",
          "data": {
            "text/plain": [
              "<Figure size 720x720 with 25 Axes>"
            ],
            "image/png": "[encoded data removed]"
          },
          "metadata": {
            "needs_background": "light"
          }
        }
      ]
    },
    {
      "cell_type": "code",
      "execution_count": 9,
      "id": "bb8bb1b6",
      "metadata": {
        "id": "bb8bb1b6",
        "colab": {
          "base_uri": "https://localhost:8080/"
        },
        "outputId": "5b42f6cb-2824-4ef5-8ec0-3e108603b3fc"
      },
      "outputs": [
        {
          "output_type": "stream",
          "name": "stdout",
          "text": [
            "Epoch 1/200\n",
            "1500/1500 [==============================] - 8s 5ms/step - loss: 0.8353 - accuracy: 0.8064 - val_loss: 0.5465 - val_accuracy: 0.8629\n",
            "Epoch 2/200\n",
            "1500/1500 [==============================] - 7s 4ms/step - loss: 0.4803 - accuracy: 0.8766 - val_loss: 0.4539 - val_accuracy: 0.8788\n",
            "Epoch 3/200\n",
            "1500/1500 [==============================] - 3s 2ms/step - loss: 0.4204 - accuracy: 0.8882 - val_loss: 0.4155 - val_accuracy: 0.8867\n",
            "Epoch 4/200\n",
            "1500/1500 [==============================] - 3s 2ms/step - loss: 0.3904 - accuracy: 0.8944 - val_loss: 0.3931 - val_accuracy: 0.8921\n",
            "Epoch 5/200\n",
            "1500/1500 [==============================] - 3s 2ms/step - loss: 0.3718 - accuracy: 0.8981 - val_loss: 0.3781 - val_accuracy: 0.8953\n",
            "Epoch 6/200\n",
            "1500/1500 [==============================] - 3s 2ms/step - loss: 0.3585 - accuracy: 0.9006 - val_loss: 0.3673 - val_accuracy: 0.8984\n",
            "Epoch 7/200\n",
            "1500/1500 [==============================] - 3s 2ms/step - loss: 0.3485 - accuracy: 0.9033 - val_loss: 0.3592 - val_accuracy: 0.9002\n",
            "Epoch 8/200\n",
            "1500/1500 [==============================] - 3s 2ms/step - loss: 0.3405 - accuracy: 0.9050 - val_loss: 0.3522 - val_accuracy: 0.9026\n",
            "Epoch 9/200\n",
            "1500/1500 [==============================] - 3s 2ms/step - loss: 0.3339 - accuracy: 0.9068 - val_loss: 0.3471 - val_accuracy: 0.9039\n",
            "Epoch 10/200\n",
            "1500/1500 [==============================] - 3s 2ms/step - loss: 0.3284 - accuracy: 0.9082 - val_loss: 0.3424 - val_accuracy: 0.9046\n",
            "Epoch 11/200\n",
            "1500/1500 [==============================] - 3s 2ms/step - loss: 0.3237 - accuracy: 0.9095 - val_loss: 0.3381 - val_accuracy: 0.9065\n",
            "Epoch 12/200\n",
            "1500/1500 [==============================] - 3s 2ms/step - loss: 0.3195 - accuracy: 0.9103 - val_loss: 0.3355 - val_accuracy: 0.9058\n",
            "Epoch 13/200\n",
            "1500/1500 [==============================] - 3s 2ms/step - loss: 0.3161 - accuracy: 0.9116 - val_loss: 0.3321 - val_accuracy: 0.9079\n",
            "Epoch 14/200\n",
            "1500/1500 [==============================] - 3s 2ms/step - loss: 0.3128 - accuracy: 0.9124 - val_loss: 0.3291 - val_accuracy: 0.9093\n",
            "Epoch 15/200\n",
            "1500/1500 [==============================] - 3s 2ms/step - loss: 0.3100 - accuracy: 0.9133 - val_loss: 0.3269 - val_accuracy: 0.9094\n",
            "Epoch 16/200\n",
            "1500/1500 [==============================] - 3s 2ms/step - loss: 0.3074 - accuracy: 0.9145 - val_loss: 0.3248 - val_accuracy: 0.9103\n",
            "Epoch 17/200\n",
            "1500/1500 [==============================] - 3s 2ms/step - loss: 0.3050 - accuracy: 0.9151 - val_loss: 0.3227 - val_accuracy: 0.9095\n",
            "Epoch 18/200\n",
            "1500/1500 [==============================] - 3s 2ms/step - loss: 0.3028 - accuracy: 0.9158 - val_loss: 0.3210 - val_accuracy: 0.9118\n",
            "Epoch 19/200\n",
            "1500/1500 [==============================] - 3s 2ms/step - loss: 0.3009 - accuracy: 0.9162 - val_loss: 0.3195 - val_accuracy: 0.9111\n",
            "Epoch 20/200\n",
            "1488/1500 [============================>.] - ETA: 0s - loss: 0.2987 - accuracy: 0.9164\n",
            " 훈련을 중단합니다\n",
            "1500/1500 [==============================] - 3s 2ms/step - loss: 0.2990 - accuracy: 0.9166 - val_loss: 0.3179 - val_accuracy: 0.9118\n",
            "dict_keys(['loss', 'accuracy', 'val_loss', 'val_accuracy'])\n"
          ]
        }
      ],
      "source": [
        "model = Sequential()\n",
        "model.add(Flatten(input_shape = (image_width, image_height)))\n",
        "model.add(Dense(10, activation ='softmax'))\n",
        "model.compile(loss=\"categorical_crossentropy\", optimizer='SGD', metrics =['accuracy'])\n",
        "\n",
        "fit_hist = model.fit(train_images, train_labels, epochs=200, validation_data = (val_images,val_labels), callbacks = [callbacks])\n",
        "print(fit_hist.history.keys())"
      ]
    },
    {
      "cell_type": "code",
      "source": [
        "plt.rcParams[\"figure.figsize\"] =(3,3)\n",
        "plt.plot(fit_hist.history['loss'])\n",
        "plt.plot(fit_hist.history['val_loss'])\n",
        "plt.xlabel('epochs')\n",
        "plt.ylabel('loss')\n",
        "plt.legend(['train_loss', 'val_loss'])\n",
        "plt.show()\n",
        "plt.plot(fit_hist.history['accuracy'])\n",
        "plt.plot(fit_hist.history['val_accuracy'])\n",
        "plt.xlabel('epochs')\n",
        "plt.ylabel('accuracy')\n",
        "plt.show()"
      ],
      "metadata": {
        "id": "FYZIrw-Wk2-8",
        "colab": {
          "base_uri": "https://localhost:8080/",
          "height": 434
        },
        "outputId": "f0e1454e-65ca-4f7d-9d3e-13124185b010"
      },
      "id": "FYZIrw-Wk2-8",
      "execution_count": 10,
      "outputs": [
        {
          "output_type": "display_data",
          "data": {
            "text/plain": [
              "<Figure size 216x216 with 1 Axes>"
            ],
            "image/png": "[encoded data removed]"
          },
          "metadata": {
            "needs_background": "light"
          }
        },
        {
          "output_type": "display_data",
          "data": {
            "text/plain": [
              "<Figure size 216x216 with 1 Axes>"
            ],
            "image/png": "[encoded data removed]"
          },
          "metadata": {
            "needs_background": "light"
          }
        }
      ]
    },
    {
      "cell_type": "code",
      "source": [
        "loss, accuracy = model.evaluate(test_images, test_labels, verbose=0)\n",
        "print(accuracy)"
      ],
      "metadata": {
        "id": "iT_L-7_lqELq",
        "colab": {
          "base_uri": "https://localhost:8080/"
        },
        "outputId": "b428c061-70d9-4366-db74-ec7ca4225cbc"
      },
      "id": "iT_L-7_lqELq",
      "execution_count": 11,
      "outputs": [
        {
          "output_type": "stream",
          "name": "stdout",
          "text": [
            "0.9057000279426575\n"
          ]
        }
      ]
    },
    {
      "cell_type": "code",
      "source": [
        "predict_images = model.predict(test_images)\n",
        "plt.rcParams[\"figure.figsize\"] =(3,3)\n",
        "plt.imshow(test_images[0])\n",
        "test_images.shape\n",
        "plt.show()\n",
        "print(test_labels[0])\n",
        "print(predict_images[0])\n",
        "print(np.argmax(predict_images[0]))"
      ],
      "metadata": {
        "id": "d2frIV7yEuxg",
        "colab": {
          "base_uri": "https://localhost:8080/"
        },
        "outputId": "b53a5d69-376a-4150-b450-4299ef6258d2"
      },
      "id": "d2frIV7yEuxg",
      "execution_count": 18,
      "outputs": [
        {
          "output_type": "execute_result",
          "data": {
            "text/plain": [
              "(10000, 28, 28)"
            ]
          },
          "metadata": {},
          "execution_count": 18
        }
      ]
    },
    {
      "cell_type": "code",
      "execution_count": 19,
      "id": "f59928e8",
      "metadata": {
        "id": "f59928e8",
        "colab": {
          "base_uri": "https://localhost:8080/",
          "height": 538
        },
        "outputId": "a9f5a551-fd36-4d92-be51-970d19e2c94f"
      },
      "outputs": [
        {
          "output_type": "stream",
          "name": "stdout",
          "text": [
            "Model: \"sequential\"\n",
            "_________________________________________________________________\n",
            " Layer (type)                Output Shape              Param #   \n",
            "=================================================================\n",
            " flatten (Flatten)           (None, 784)               0         \n",
            "                                                                 \n",
            " dense (Dense)               (None, 10)                7850      \n",
            "                                                                 \n",
            "=================================================================\n",
            "Total params: 7,850\n",
            "Trainable params: 7,850\n",
            "Non-trainable params: 0\n",
            "_________________________________________________________________\n"
          ]
        },
        {
          "output_type": "execute_result",
          "data": {
            "image/png": "[encoded data removed]",
            "text/plain": [
              "<IPython.core.display.Image object>"
            ]
          },
          "metadata": {},
          "execution_count": 19
        }
      ],
      "source": [
        "from keras.utils.vis_utils import plot_model\n",
        "model.summary()\n",
        "plot_model(model, show_shapes=True, show_layer_activations=True, show_layer_names = True)"
      ]
    },
    {
      "cell_type": "code",
      "source": [
        "model.save('ML_Softmax_Model.h5')\n",
        "img = Image.open('/content/drive/MyDrive/test.png').convert(\"L\")\n",
        "plt.rcParams[\"figure.figsize\"] =(3,3)\n",
        "plt.imshow(img)\n",
        "plt.show()\n",
        "img =np.resize(img, (1, 784))\n",
        "img = ((np.array(img)/255) - 1)* -1\n",
        "\n",
        "model = load_model('ML_Softmax_Model.h5')\n",
        "img =np.resize(img, (1, 28, 28)) \n",
        "predict_result = model.predict(img)\n",
        "print(predict_result)\n",
        "print(np.argmax(predict_result))"
      ],
      "metadata": {
        "id": "qtoitk-X7hVp",
        "colab": {
          "base_uri": "https://localhost:8080/",
          "height": 281
        },
        "outputId": "c94919ec-19cf-43d8-ca9d-dabe42e91d4d"
      },
      "id": "qtoitk-X7hVp",
      "execution_count": 47,
      "outputs": [
        {
          "output_type": "display_data",
          "data": {
            "text/plain": [
              "<Figure size 216x216 with 1 Axes>"
            ],
            "image/png": "[encoded data removed]"
          },
          "metadata": {
            "needs_background": "light"
          }
        },
        {
          "output_type": "stream",
          "name": "stdout",
          "text": [
            "1/1 [==============================] - 0s 45ms/step\n",
            "[[8.8127010e-04 5.0261050e-01 3.2497221e-01 6.2841035e-02 4.4942608e-05\n",
            "  1.2739724e-02 1.1374791e-03 2.5383398e-02 6.2267344e-02 7.1220123e-03]]\n",
            "1\n"
          ]
        }
      ]
    },
    {
      "cell_type": "code",
      "source": [
        "from google.colab import drive\n",
        "drive.mount('/content/drive')"
      ],
      "metadata": {
        "colab": {
          "base_uri": "https://localhost:8080/"
        },
        "id": "TPfwO8_AQPwj",
        "outputId": "37236fe2-6e44-4ed9-a476-57b99e72a2ec"
      },
      "id": "TPfwO8_AQPwj",
      "execution_count": 21,
      "outputs": [
        {
          "output_type": "stream",
          "name": "stdout",
          "text": [
            "Mounted at /content/drive\n"
          ]
        }
      ]
    }
  ],
  "metadata": {
    "kernelspec": {
      "display_name": "Python 3 (ipykernel)",
      "language": "python",
      "name": "python3"
    },
    "language_info": {
      "codemirror_mode": {
        "name": "ipython",
        "version": 3
      },
      "file_extension": ".py",
      "mimetype": "text/x-python",
      "name": "python",
      "nbconvert_exporter": "python",
      "pygments_lexer": "ipython3",
      "version": "3.9.12"
    },
    "colab": {
      "provenance": [],
      "collapsed_sections": []
    }
  },
  "nbformat": 4,
  "nbformat_minor": 5
}