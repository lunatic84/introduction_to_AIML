{
  "cells": [
    {
      "cell_type": "markdown",
      "metadata": {
        "id": "PK3W0tk8kPlc"
      },
      "source": [
        "# (분류 1) 보험사기 탐지\n",
        "\n",
        "## 문제\n",
        "인공지능은 프로세스를 자동화하고, 비즈니스에 대한 통찰력을 모으고, 프로세스 속도를 높이기 위해 다양한 산업에서 사용되고 있습니다. 인공지능이 산업에 어떤 영향을 미치는지 실제 시나리오에서 인공지능의 사용을 연구하기 위해 보험사기 탐지 문제를 예로 들어 설명하겠습니다.\n",
        "\n",
        "보험사기는 매우 크고 중요한 문제입니다. 다양한 사기가 계속 발생하고 있으며, 일부 수법은 일반화되어 있습니다. 따라서 미리 예측하면 많은 피해를 막을 수 있으며, 비용을 절약할 수 있습니다. 이러한 문제에 대하여 AI는 우리를 도울 수 있습니다.\n",
        "\n",
        "## 데이터\n",
        "이 실험에서는 [Kaggle](https://www.kaggle.com/buntyshah/auto-insurance-claims-data)에서 얻은 자동차 보험 청구 데이터로 실습할 것입니다. Kaggle은 데이터 전문가들이 모여 지식을 공유하고 서로 경쟁하여 보상을 받을 수 있는 데이터 공유 플랫폼입니다. 정리된 데이터가 Insurance.csv에 포함되어 있습니다."
      ]
    },
    {
      "cell_type": "markdown",
      "source": [
        "## 0. 머신러닝 패키지 준비"
      ],
      "metadata": {
        "id": "1cIcpLBDcjS1"
      }
    },
    {
      "cell_type": "code",
      "source": [
        "pip install xgboost --quiet"
      ],
      "metadata": {
        "id": "pQP7JmI0K8PL"
      },
      "execution_count": null,
      "outputs": []
    },
    {
      "cell_type": "code",
      "execution_count": null,
      "metadata": {
        "id": "8_V-MOV5kPlo"
      },
      "outputs": [],
      "source": [
        "import numpy as np \n",
        "import pandas as pd\n",
        "import matplotlib.pyplot as plt\n",
        "\n",
        "from sklearn.preprocessing import StandardScaler\n",
        "from sklearn.model_selection import train_test_split\n",
        "from sklearn.model_selection import RandomizedSearchCV\n",
        "from sklearn.metrics import classification_report"
      ]
    },
    {
      "cell_type": "markdown",
      "source": [
        "## 1. 데이터집합 로드"
      ],
      "metadata": {
        "id": "fSNLtc6a0aOS"
      }
    },
    {
      "cell_type": "code",
      "execution_count": null,
      "metadata": {
        "colab": {
          "base_uri": "https://localhost:8080/",
          "height": 317
        },
        "id": "daLalCzDkPlp",
        "outputId": "57e03391-6993-4f6c-bb20-851b66332ece"
      },
      "outputs": [
        {
          "output_type": "execute_result",
          "data": {
            "text/plain": [
              "   capital-gains  capital-loss  incident_hour_of_the_day  \\\n",
              "0          53300             0                         5   \n",
              "1              0             0                         8   \n",
              "2          35100             0                         7   \n",
              "3          48900        -62400                         5   \n",
              "4          66000        -46000                        20   \n",
              "\n",
              "   number_of_vehicles_involved  witnesses  total_claim_amount  fraud_reported  \\\n",
              "0                            1          2               71610               1   \n",
              "1                            1          0                5070               1   \n",
              "2                            3          3               34650               0   \n",
              "3                            1          2               63400               1   \n",
              "4                            1          1                6500               0   \n",
              "\n",
              "   insured_sex_FEMALE  insured_sex_MALE  insured_occupation_adm-clerical  ...  \\\n",
              "0                   0                 1                                0  ...   \n",
              "1                   0                 1                                0  ...   \n",
              "2                   1                 0                                0  ...   \n",
              "3                   1                 0                                0  ...   \n",
              "4                   0                 1                                0  ...   \n",
              "\n",
              "   months_as_customer_groups_301-350  months_as_customer_groups_351-400  \\\n",
              "0                                  1                                  0   \n",
              "1                                  0                                  0   \n",
              "2                                  0                                  0   \n",
              "3                                  0                                  0   \n",
              "4                                  0                                  0   \n",
              "\n",
              "   months_as_customer_groups_401-450  months_as_customer_groups_451-500  \\\n",
              "0                                  0                                  0   \n",
              "1                                  0                                  0   \n",
              "2                                  0                                  0   \n",
              "3                                  0                                  0   \n",
              "4                                  0                                  0   \n",
              "\n",
              "   months_as_customer_groups_51-100  policy_annual_premium_groups_high  \\\n",
              "0                                 0                                  0   \n",
              "1                                 0                                  0   \n",
              "2                                 0                                  0   \n",
              "3                                 0                                  0   \n",
              "4                                 0                                  1   \n",
              "\n",
              "   policy_annual_premium_groups_low  policy_annual_premium_groups_medium  \\\n",
              "0                                 0                                    1   \n",
              "1                                 0                                    1   \n",
              "2                                 0                                    1   \n",
              "3                                 0                                    1   \n",
              "4                                 0                                    0   \n",
              "\n",
              "   policy_annual_premium_groups_very high  \\\n",
              "0                                       0   \n",
              "1                                       0   \n",
              "2                                       0   \n",
              "3                                       0   \n",
              "4                                       0   \n",
              "\n",
              "   policy_annual_premium_groups_very low  \n",
              "0                                      0  \n",
              "1                                      0  \n",
              "2                                      0  \n",
              "3                                      0  \n",
              "4                                      0  \n",
              "\n",
              "[5 rows x 68 columns]"
            ],
            "text/html": [
              "\n",
              "  <div id=\"df-c52b5ab6-c0ba-4763-a02e-b4ff89f5f076\">\n",
              "    <div class=\"colab-df-container\">\n",
              "      <div>\n",
              "<style scoped>\n",
              "    .dataframe tbody tr th:only-of-type {\n",
              "        vertical-align: middle;\n",
              "    }\n",
              "\n",
              "    .dataframe tbody tr th {\n",
              "        vertical-align: top;\n",
              "    }\n",
              "\n",
              "    .dataframe thead th {\n",
              "        text-align: right;\n",
              "    }\n",
              "</style>\n",
              "<table border=\"1\" class=\"dataframe\">\n",
              "  <thead>\n",
              "    <tr style=\"text-align: right;\">\n",
              "      <th></th>\n",
              "      <th>capital-gains</th>\n",
              "      <th>capital-loss</th>\n",
              "      <th>incident_hour_of_the_day</th>\n",
              "      <th>number_of_vehicles_involved</th>\n",
              "      <th>witnesses</th>\n",
              "      <th>total_claim_amount</th>\n",
              "      <th>fraud_reported</th>\n",
              "      <th>insured_sex_FEMALE</th>\n",
              "      <th>insured_sex_MALE</th>\n",
              "      <th>insured_occupation_adm-clerical</th>\n",
              "      <th>...</th>\n",
              "      <th>months_as_customer_groups_301-350</th>\n",
              "      <th>months_as_customer_groups_351-400</th>\n",
              "      <th>months_as_customer_groups_401-450</th>\n",
              "      <th>months_as_customer_groups_451-500</th>\n",
              "      <th>months_as_customer_groups_51-100</th>\n",
              "      <th>policy_annual_premium_groups_high</th>\n",
              "      <th>policy_annual_premium_groups_low</th>\n",
              "      <th>policy_annual_premium_groups_medium</th>\n",
              "      <th>policy_annual_premium_groups_very high</th>\n",
              "      <th>policy_annual_premium_groups_very low</th>\n",
              "    </tr>\n",
              "  </thead>\n",
              "  <tbody>\n",
              "    <tr>\n",
              "      <th>0</th>\n",
              "      <td>53300</td>\n",
              "      <td>0</td>\n",
              "      <td>5</td>\n",
              "      <td>1</td>\n",
              "      <td>2</td>\n",
              "      <td>71610</td>\n",
              "      <td>1</td>\n",
              "      <td>0</td>\n",
              "      <td>1</td>\n",
              "      <td>0</td>\n",
              "      <td>...</td>\n",
              "      <td>1</td>\n",
              "      <td>0</td>\n",
              "      <td>0</td>\n",
              "      <td>0</td>\n",
              "      <td>0</td>\n",
              "      <td>0</td>\n",
              "      <td>0</td>\n",
              "      <td>1</td>\n",
              "      <td>0</td>\n",
              "      <td>0</td>\n",
              "    </tr>\n",
              "    <tr>\n",
              "      <th>1</th>\n",
              "      <td>0</td>\n",
              "      <td>0</td>\n",
              "      <td>8</td>\n",
              "      <td>1</td>\n",
              "      <td>0</td>\n",
              "      <td>5070</td>\n",
              "      <td>1</td>\n",
              "      <td>0</td>\n",
              "      <td>1</td>\n",
              "      <td>0</td>\n",
              "      <td>...</td>\n",
              "      <td>0</td>\n",
              "      <td>0</td>\n",
              "      <td>0</td>\n",
              "      <td>0</td>\n",
              "      <td>0</td>\n",
              "      <td>0</td>\n",
              "      <td>0</td>\n",
              "      <td>1</td>\n",
              "      <td>0</td>\n",
              "      <td>0</td>\n",
              "    </tr>\n",
              "    <tr>\n",
              "      <th>2</th>\n",
              "      <td>35100</td>\n",
              "      <td>0</td>\n",
              "      <td>7</td>\n",
              "      <td>3</td>\n",
              "      <td>3</td>\n",
              "      <td>34650</td>\n",
              "      <td>0</td>\n",
              "      <td>1</td>\n",
              "      <td>0</td>\n",
              "      <td>0</td>\n",
              "      <td>...</td>\n",
              "      <td>0</td>\n",
              "      <td>0</td>\n",
              "      <td>0</td>\n",
              "      <td>0</td>\n",
              "      <td>0</td>\n",
              "      <td>0</td>\n",
              "      <td>0</td>\n",
              "      <td>1</td>\n",
              "      <td>0</td>\n",
              "      <td>0</td>\n",
              "    </tr>\n",
              "    <tr>\n",
              "      <th>3</th>\n",
              "      <td>48900</td>\n",
              "      <td>-62400</td>\n",
              "      <td>5</td>\n",
              "      <td>1</td>\n",
              "      <td>2</td>\n",
              "      <td>63400</td>\n",
              "      <td>1</td>\n",
              "      <td>1</td>\n",
              "      <td>0</td>\n",
              "      <td>0</td>\n",
              "      <td>...</td>\n",
              "      <td>0</td>\n",
              "      <td>0</td>\n",
              "      <td>0</td>\n",
              "      <td>0</td>\n",
              "      <td>0</td>\n",
              "      <td>0</td>\n",
              "      <td>0</td>\n",
              "      <td>1</td>\n",
              "      <td>0</td>\n",
              "      <td>0</td>\n",
              "    </tr>\n",
              "    <tr>\n",
              "      <th>4</th>\n",
              "      <td>66000</td>\n",
              "      <td>-46000</td>\n",
              "      <td>20</td>\n",
              "      <td>1</td>\n",
              "      <td>1</td>\n",
              "      <td>6500</td>\n",
              "      <td>0</td>\n",
              "      <td>0</td>\n",
              "      <td>1</td>\n",
              "      <td>0</td>\n",
              "      <td>...</td>\n",
              "      <td>0</td>\n",
              "      <td>0</td>\n",
              "      <td>0</td>\n",
              "      <td>0</td>\n",
              "      <td>0</td>\n",
              "      <td>1</td>\n",
              "      <td>0</td>\n",
              "      <td>0</td>\n",
              "      <td>0</td>\n",
              "      <td>0</td>\n",
              "    </tr>\n",
              "  </tbody>\n",
              "</table>\n",
              "<p>5 rows × 68 columns</p>\n",
              "</div>\n",
              "      <button class=\"colab-df-convert\" onclick=\"convertToInteractive('df-c52b5ab6-c0ba-4763-a02e-b4ff89f5f076')\"\n",
              "              title=\"Convert this dataframe to an interactive table.\"\n",
              "              style=\"display:none;\">\n",
              "        \n",
              "  <svg xmlns=\"http://www.w3.org/2000/svg\" height=\"24px\"viewBox=\"0 0 24 24\"\n",
              "       width=\"24px\">\n",
              "    <path d=\"M0 0h24v24H0V0z\" fill=\"none\"/>\n",
              "    <path d=\"M18.56 5.44l.94 2.06.94-2.06 2.06-.94-2.06-.94-.94-2.06-.94 2.06-2.06.94zm-11 1L8.5 8.5l.94-2.06 2.06-.94-2.06-.94L8.5 2.5l-.94 2.06-2.06.94zm10 10l.94 2.06.94-2.06 2.06-.94-2.06-.94-.94-2.06-.94 2.06-2.06.94z\"/><path d=\"M17.41 7.96l-1.37-1.37c-.4-.4-.92-.59-1.43-.59-.52 0-1.04.2-1.43.59L10.3 9.45l-7.72 7.72c-.78.78-.78 2.05 0 2.83L4 21.41c.39.39.9.59 1.41.59.51 0 1.02-.2 1.41-.59l7.78-7.78 2.81-2.81c.8-.78.8-2.07 0-2.86zM5.41 20L4 18.59l7.72-7.72 1.47 1.35L5.41 20z\"/>\n",
              "  </svg>\n",
              "      </button>\n",
              "      \n",
              "  <style>\n",
              "    .colab-df-container {\n",
              "      display:flex;\n",
              "      flex-wrap:wrap;\n",
              "      gap: 12px;\n",
              "    }\n",
              "\n",
              "    .colab-df-convert {\n",
              "      background-color: #E8F0FE;\n",
              "      border: none;\n",
              "      border-radius: 50%;\n",
              "      cursor: pointer;\n",
              "      display: none;\n",
              "      fill: #1967D2;\n",
              "      height: 32px;\n",
              "      padding: 0 0 0 0;\n",
              "      width: 32px;\n",
              "    }\n",
              "\n",
              "    .colab-df-convert:hover {\n",
              "      background-color: #E2EBFA;\n",
              "      box-shadow: 0px 1px 2px rgba(60, 64, 67, 0.3), 0px 1px 3px 1px rgba(60, 64, 67, 0.15);\n",
              "      fill: #174EA6;\n",
              "    }\n",
              "\n",
              "    [theme=dark] .colab-df-convert {\n",
              "      background-color: #3B4455;\n",
              "      fill: #D2E3FC;\n",
              "    }\n",
              "\n",
              "    [theme=dark] .colab-df-convert:hover {\n",
              "      background-color: #434B5C;\n",
              "      box-shadow: 0px 1px 3px 1px rgba(0, 0, 0, 0.15);\n",
              "      filter: drop-shadow(0px 1px 2px rgba(0, 0, 0, 0.3));\n",
              "      fill: #FFFFFF;\n",
              "    }\n",
              "  </style>\n",
              "\n",
              "      <script>\n",
              "        const buttonEl =\n",
              "          document.querySelector('#df-c52b5ab6-c0ba-4763-a02e-b4ff89f5f076 button.colab-df-convert');\n",
              "        buttonEl.style.display =\n",
              "          google.colab.kernel.accessAllowed ? 'block' : 'none';\n",
              "\n",
              "        async function convertToInteractive(key) {\n",
              "          const element = document.querySelector('#df-c52b5ab6-c0ba-4763-a02e-b4ff89f5f076');\n",
              "          const dataTable =\n",
              "            await google.colab.kernel.invokeFunction('convertToInteractive',\n",
              "                                                     [key], {});\n",
              "          if (!dataTable) return;\n",
              "\n",
              "          const docLinkHtml = 'Like what you see? Visit the ' +\n",
              "            '<a target=\"_blank\" href=https://colab.research.google.com/notebooks/data_table.ipynb>data table notebook</a>'\n",
              "            + ' to learn more about interactive tables.';\n",
              "          element.innerHTML = '';\n",
              "          dataTable['output_type'] = 'display_data';\n",
              "          await google.colab.output.renderOutput(dataTable, element);\n",
              "          const docLink = document.createElement('div');\n",
              "          docLink.innerHTML = docLinkHtml;\n",
              "          element.appendChild(docLink);\n",
              "        }\n",
              "      </script>\n",
              "    </div>\n",
              "  </div>\n",
              "  "
            ]
          },
          "metadata": {},
          "execution_count": 3
        }
      ],
      "source": [
        "data = pd.read_csv('[Dataset]_Module11_(Insurance).csv').drop(['Unnamed: 0'], axis=1)\n",
        "data.head()"
      ]
    },
    {
      "cell_type": "code",
      "source": [
        "data.shape"
      ],
      "metadata": {
        "colab": {
          "base_uri": "https://localhost:8080/"
        },
        "id": "b_ghB1-e8yYC",
        "outputId": "1705c527-89ce-401d-d7d0-ca12f6c52b18"
      },
      "execution_count": null,
      "outputs": [
        {
          "output_type": "execute_result",
          "data": {
            "text/plain": [
              "(1000, 68)"
            ]
          },
          "metadata": {},
          "execution_count": 4
        }
      ]
    },
    {
      "cell_type": "markdown",
      "source": [
        "## 2. 데이터 탐색"
      ],
      "metadata": {
        "id": "fywZdNTqoZqj"
      }
    },
    {
      "cell_type": "code",
      "execution_count": null,
      "metadata": {
        "colab": {
          "base_uri": "https://localhost:8080/",
          "height": 411
        },
        "id": "e7vhsKnBkPlu",
        "outputId": "eebe47f0-fdea-451b-bcba-8175bbd9dbf7"
      },
      "outputs": [
        {
          "output_type": "execute_result",
          "data": {
            "text/plain": [
              "       capital-gains   capital-loss  incident_hour_of_the_day  \\\n",
              "count    1000.000000    1000.000000               1000.000000   \n",
              "mean    25126.100000  -26793.700000                 11.644000   \n",
              "std     27872.187708   28104.096686                  6.951373   \n",
              "min         0.000000 -111100.000000                  0.000000   \n",
              "25%         0.000000  -51500.000000                  6.000000   \n",
              "50%         0.000000  -23250.000000                 12.000000   \n",
              "75%     51025.000000       0.000000                 17.000000   \n",
              "max    100500.000000       0.000000                 23.000000   \n",
              "\n",
              "       number_of_vehicles_involved    witnesses  total_claim_amount  \\\n",
              "count                   1000.00000  1000.000000          1000.00000   \n",
              "mean                       1.83900     1.487000         52761.94000   \n",
              "std                        1.01888     1.111335         26401.53319   \n",
              "min                        1.00000     0.000000           100.00000   \n",
              "25%                        1.00000     1.000000         41812.50000   \n",
              "50%                        1.00000     1.000000         58055.00000   \n",
              "75%                        3.00000     2.000000         70592.50000   \n",
              "max                        4.00000     3.000000        114920.00000   \n",
              "\n",
              "       fraud_reported  insured_sex_FEMALE  insured_sex_MALE  \\\n",
              "count     1000.000000         1000.000000       1000.000000   \n",
              "mean         0.247000            0.537000          0.463000   \n",
              "std          0.431483            0.498879          0.498879   \n",
              "min          0.000000            0.000000          0.000000   \n",
              "25%          0.000000            0.000000          0.000000   \n",
              "50%          0.000000            1.000000          0.000000   \n",
              "75%          0.000000            1.000000          1.000000   \n",
              "max          1.000000            1.000000          1.000000   \n",
              "\n",
              "       insured_occupation_adm-clerical  ...  \\\n",
              "count                      1000.000000  ...   \n",
              "mean                          0.065000  ...   \n",
              "std                           0.246649  ...   \n",
              "min                           0.000000  ...   \n",
              "25%                           0.000000  ...   \n",
              "50%                           0.000000  ...   \n",
              "75%                           0.000000  ...   \n",
              "max                           1.000000  ...   \n",
              "\n",
              "       months_as_customer_groups_301-350  months_as_customer_groups_351-400  \\\n",
              "count                        1000.000000                        1000.000000   \n",
              "mean                            0.080000                           0.043000   \n",
              "std                             0.271429                           0.202959   \n",
              "min                             0.000000                           0.000000   \n",
              "25%                             0.000000                           0.000000   \n",
              "50%                             0.000000                           0.000000   \n",
              "75%                             0.000000                           0.000000   \n",
              "max                             1.000000                           1.000000   \n",
              "\n",
              "       months_as_customer_groups_401-450  months_as_customer_groups_451-500  \\\n",
              "count                         1000.00000                        1000.000000   \n",
              "mean                             0.04200                           0.047000   \n",
              "std                              0.20069                           0.211745   \n",
              "min                              0.00000                           0.000000   \n",
              "25%                              0.00000                           0.000000   \n",
              "50%                              0.00000                           0.000000   \n",
              "75%                              0.00000                           0.000000   \n",
              "max                              1.00000                           1.000000   \n",
              "\n",
              "       months_as_customer_groups_51-100  policy_annual_premium_groups_high  \\\n",
              "count                         1000.0000                        1000.000000   \n",
              "mean                             0.1020                           0.153000   \n",
              "std                              0.3028                           0.360168   \n",
              "min                              0.0000                           0.000000   \n",
              "25%                              0.0000                           0.000000   \n",
              "50%                              0.0000                           0.000000   \n",
              "75%                              0.0000                           0.000000   \n",
              "max                              1.0000                           1.000000   \n",
              "\n",
              "       policy_annual_premium_groups_low  policy_annual_premium_groups_medium  \\\n",
              "count                       1000.000000                           1000.00000   \n",
              "mean                           0.151000                              0.69300   \n",
              "std                            0.358228                              0.46148   \n",
              "min                            0.000000                              0.00000   \n",
              "25%                            0.000000                              0.00000   \n",
              "50%                            0.000000                              1.00000   \n",
              "75%                            0.000000                              1.00000   \n",
              "max                            1.000000                              1.00000   \n",
              "\n",
              "       policy_annual_premium_groups_very high  \\\n",
              "count                             1000.000000   \n",
              "mean                                 0.001000   \n",
              "std                                  0.031623   \n",
              "min                                  0.000000   \n",
              "25%                                  0.000000   \n",
              "50%                                  0.000000   \n",
              "75%                                  0.000000   \n",
              "max                                  1.000000   \n",
              "\n",
              "       policy_annual_premium_groups_very low  \n",
              "count                            1000.000000  \n",
              "mean                                0.002000  \n",
              "std                                 0.044699  \n",
              "min                                 0.000000  \n",
              "25%                                 0.000000  \n",
              "50%                                 0.000000  \n",
              "75%                                 0.000000  \n",
              "max                                 1.000000  \n",
              "\n",
              "[8 rows x 68 columns]"
            ],
            "text/html": [
              "\n",
              "  <div id=\"df-4ab35c76-24ed-4ed8-a724-251643fdf07d\">\n",
              "    <div class=\"colab-df-container\">\n",
              "      <div>\n",
              "<style scoped>\n",
              "    .dataframe tbody tr th:only-of-type {\n",
              "        vertical-align: middle;\n",
              "    }\n",
              "\n",
              "    .dataframe tbody tr th {\n",
              "        vertical-align: top;\n",
              "    }\n",
              "\n",
              "    .dataframe thead th {\n",
              "        text-align: right;\n",
              "    }\n",
              "</style>\n",
              "<table border=\"1\" class=\"dataframe\">\n",
              "  <thead>\n",
              "    <tr style=\"text-align: right;\">\n",
              "      <th></th>\n",
              "      <th>capital-gains</th>\n",
              "      <th>capital-loss</th>\n",
              "      <th>incident_hour_of_the_day</th>\n",
              "      <th>number_of_vehicles_involved</th>\n",
              "      <th>witnesses</th>\n",
              "      <th>total_claim_amount</th>\n",
              "      <th>fraud_reported</th>\n",
              "      <th>insured_sex_FEMALE</th>\n",
              "      <th>insured_sex_MALE</th>\n",
              "      <th>insured_occupation_adm-clerical</th>\n",
              "      <th>...</th>\n",
              "      <th>months_as_customer_groups_301-350</th>\n",
              "      <th>months_as_customer_groups_351-400</th>\n",
              "      <th>months_as_customer_groups_401-450</th>\n",
              "      <th>months_as_customer_groups_451-500</th>\n",
              "      <th>months_as_customer_groups_51-100</th>\n",
              "      <th>policy_annual_premium_groups_high</th>\n",
              "      <th>policy_annual_premium_groups_low</th>\n",
              "      <th>policy_annual_premium_groups_medium</th>\n",
              "      <th>policy_annual_premium_groups_very high</th>\n",
              "      <th>policy_annual_premium_groups_very low</th>\n",
              "    </tr>\n",
              "  </thead>\n",
              "  <tbody>\n",
              "    <tr>\n",
              "      <th>count</th>\n",
              "      <td>1000.000000</td>\n",
              "      <td>1000.000000</td>\n",
              "      <td>1000.000000</td>\n",
              "      <td>1000.00000</td>\n",
              "      <td>1000.000000</td>\n",
              "      <td>1000.00000</td>\n",
              "      <td>1000.000000</td>\n",
              "      <td>1000.000000</td>\n",
              "      <td>1000.000000</td>\n",
              "      <td>1000.000000</td>\n",
              "      <td>...</td>\n",
              "      <td>1000.000000</td>\n",
              "      <td>1000.000000</td>\n",
              "      <td>1000.00000</td>\n",
              "      <td>1000.000000</td>\n",
              "      <td>1000.0000</td>\n",
              "      <td>1000.000000</td>\n",
              "      <td>1000.000000</td>\n",
              "      <td>1000.00000</td>\n",
              "      <td>1000.000000</td>\n",
              "      <td>1000.000000</td>\n",
              "    </tr>\n",
              "    <tr>\n",
              "      <th>mean</th>\n",
              "      <td>25126.100000</td>\n",
              "      <td>-26793.700000</td>\n",
              "      <td>11.644000</td>\n",
              "      <td>1.83900</td>\n",
              "      <td>1.487000</td>\n",
              "      <td>52761.94000</td>\n",
              "      <td>0.247000</td>\n",
              "      <td>0.537000</td>\n",
              "      <td>0.463000</td>\n",
              "      <td>0.065000</td>\n",
              "      <td>...</td>\n",
              "      <td>0.080000</td>\n",
              "      <td>0.043000</td>\n",
              "      <td>0.04200</td>\n",
              "      <td>0.047000</td>\n",
              "      <td>0.1020</td>\n",
              "      <td>0.153000</td>\n",
              "      <td>0.151000</td>\n",
              "      <td>0.69300</td>\n",
              "      <td>0.001000</td>\n",
              "      <td>0.002000</td>\n",
              "    </tr>\n",
              "    <tr>\n",
              "      <th>std</th>\n",
              "      <td>27872.187708</td>\n",
              "      <td>28104.096686</td>\n",
              "      <td>6.951373</td>\n",
              "      <td>1.01888</td>\n",
              "      <td>1.111335</td>\n",
              "      <td>26401.53319</td>\n",
              "      <td>0.431483</td>\n",
              "      <td>0.498879</td>\n",
              "      <td>0.498879</td>\n",
              "      <td>0.246649</td>\n",
              "      <td>...</td>\n",
              "      <td>0.271429</td>\n",
              "      <td>0.202959</td>\n",
              "      <td>0.20069</td>\n",
              "      <td>0.211745</td>\n",
              "      <td>0.3028</td>\n",
              "      <td>0.360168</td>\n",
              "      <td>0.358228</td>\n",
              "      <td>0.46148</td>\n",
              "      <td>0.031623</td>\n",
              "      <td>0.044699</td>\n",
              "    </tr>\n",
              "    <tr>\n",
              "      <th>min</th>\n",
              "      <td>0.000000</td>\n",
              "      <td>-111100.000000</td>\n",
              "      <td>0.000000</td>\n",
              "      <td>1.00000</td>\n",
              "      <td>0.000000</td>\n",
              "      <td>100.00000</td>\n",
              "      <td>0.000000</td>\n",
              "      <td>0.000000</td>\n",
              "      <td>0.000000</td>\n",
              "      <td>0.000000</td>\n",
              "      <td>...</td>\n",
              "      <td>0.000000</td>\n",
              "      <td>0.000000</td>\n",
              "      <td>0.00000</td>\n",
              "      <td>0.000000</td>\n",
              "      <td>0.0000</td>\n",
              "      <td>0.000000</td>\n",
              "      <td>0.000000</td>\n",
              "      <td>0.00000</td>\n",
              "      <td>0.000000</td>\n",
              "      <td>0.000000</td>\n",
              "    </tr>\n",
              "    <tr>\n",
              "      <th>25%</th>\n",
              "      <td>0.000000</td>\n",
              "      <td>-51500.000000</td>\n",
              "      <td>6.000000</td>\n",
              "      <td>1.00000</td>\n",
              "      <td>1.000000</td>\n",
              "      <td>41812.50000</td>\n",
              "      <td>0.000000</td>\n",
              "      <td>0.000000</td>\n",
              "      <td>0.000000</td>\n",
              "      <td>0.000000</td>\n",
              "      <td>...</td>\n",
              "      <td>0.000000</td>\n",
              "      <td>0.000000</td>\n",
              "      <td>0.00000</td>\n",
              "      <td>0.000000</td>\n",
              "      <td>0.0000</td>\n",
              "      <td>0.000000</td>\n",
              "      <td>0.000000</td>\n",
              "      <td>0.00000</td>\n",
              "      <td>0.000000</td>\n",
              "      <td>0.000000</td>\n",
              "    </tr>\n",
              "    <tr>\n",
              "      <th>50%</th>\n",
              "      <td>0.000000</td>\n",
              "      <td>-23250.000000</td>\n",
              "      <td>12.000000</td>\n",
              "      <td>1.00000</td>\n",
              "      <td>1.000000</td>\n",
              "      <td>58055.00000</td>\n",
              "      <td>0.000000</td>\n",
              "      <td>1.000000</td>\n",
              "      <td>0.000000</td>\n",
              "      <td>0.000000</td>\n",
              "      <td>...</td>\n",
              "      <td>0.000000</td>\n",
              "      <td>0.000000</td>\n",
              "      <td>0.00000</td>\n",
              "      <td>0.000000</td>\n",
              "      <td>0.0000</td>\n",
              "      <td>0.000000</td>\n",
              "      <td>0.000000</td>\n",
              "      <td>1.00000</td>\n",
              "      <td>0.000000</td>\n",
              "      <td>0.000000</td>\n",
              "    </tr>\n",
              "    <tr>\n",
              "      <th>75%</th>\n",
              "      <td>51025.000000</td>\n",
              "      <td>0.000000</td>\n",
              "      <td>17.000000</td>\n",
              "      <td>3.00000</td>\n",
              "      <td>2.000000</td>\n",
              "      <td>70592.50000</td>\n",
              "      <td>0.000000</td>\n",
              "      <td>1.000000</td>\n",
              "      <td>1.000000</td>\n",
              "      <td>0.000000</td>\n",
              "      <td>...</td>\n",
              "      <td>0.000000</td>\n",
              "      <td>0.000000</td>\n",
              "      <td>0.00000</td>\n",
              "      <td>0.000000</td>\n",
              "      <td>0.0000</td>\n",
              "      <td>0.000000</td>\n",
              "      <td>0.000000</td>\n",
              "      <td>1.00000</td>\n",
              "      <td>0.000000</td>\n",
              "      <td>0.000000</td>\n",
              "    </tr>\n",
              "    <tr>\n",
              "      <th>max</th>\n",
              "      <td>100500.000000</td>\n",
              "      <td>0.000000</td>\n",
              "      <td>23.000000</td>\n",
              "      <td>4.00000</td>\n",
              "      <td>3.000000</td>\n",
              "      <td>114920.00000</td>\n",
              "      <td>1.000000</td>\n",
              "      <td>1.000000</td>\n",
              "      <td>1.000000</td>\n",
              "      <td>1.000000</td>\n",
              "      <td>...</td>\n",
              "      <td>1.000000</td>\n",
              "      <td>1.000000</td>\n",
              "      <td>1.00000</td>\n",
              "      <td>1.000000</td>\n",
              "      <td>1.0000</td>\n",
              "      <td>1.000000</td>\n",
              "      <td>1.000000</td>\n",
              "      <td>1.00000</td>\n",
              "      <td>1.000000</td>\n",
              "      <td>1.000000</td>\n",
              "    </tr>\n",
              "  </tbody>\n",
              "</table>\n",
              "<p>8 rows × 68 columns</p>\n",
              "</div>\n",
              "      <button class=\"colab-df-convert\" onclick=\"convertToInteractive('df-4ab35c76-24ed-4ed8-a724-251643fdf07d')\"\n",
              "              title=\"Convert this dataframe to an interactive table.\"\n",
              "              style=\"display:none;\">\n",
              "        \n",
              "  <svg xmlns=\"http://www.w3.org/2000/svg\" height=\"24px\"viewBox=\"0 0 24 24\"\n",
              "       width=\"24px\">\n",
              "    <path d=\"M0 0h24v24H0V0z\" fill=\"none\"/>\n",
              "    <path d=\"M18.56 5.44l.94 2.06.94-2.06 2.06-.94-2.06-.94-.94-2.06-.94 2.06-2.06.94zm-11 1L8.5 8.5l.94-2.06 2.06-.94-2.06-.94L8.5 2.5l-.94 2.06-2.06.94zm10 10l.94 2.06.94-2.06 2.06-.94-2.06-.94-.94-2.06-.94 2.06-2.06.94z\"/><path d=\"M17.41 7.96l-1.37-1.37c-.4-.4-.92-.59-1.43-.59-.52 0-1.04.2-1.43.59L10.3 9.45l-7.72 7.72c-.78.78-.78 2.05 0 2.83L4 21.41c.39.39.9.59 1.41.59.51 0 1.02-.2 1.41-.59l7.78-7.78 2.81-2.81c.8-.78.8-2.07 0-2.86zM5.41 20L4 18.59l7.72-7.72 1.47 1.35L5.41 20z\"/>\n",
              "  </svg>\n",
              "      </button>\n",
              "      \n",
              "  <style>\n",
              "    .colab-df-container {\n",
              "      display:flex;\n",
              "      flex-wrap:wrap;\n",
              "      gap: 12px;\n",
              "    }\n",
              "\n",
              "    .colab-df-convert {\n",
              "      background-color: #E8F0FE;\n",
              "      border: none;\n",
              "      border-radius: 50%;\n",
              "      cursor: pointer;\n",
              "      display: none;\n",
              "      fill: #1967D2;\n",
              "      height: 32px;\n",
              "      padding: 0 0 0 0;\n",
              "      width: 32px;\n",
              "    }\n",
              "\n",
              "    .colab-df-convert:hover {\n",
              "      background-color: #E2EBFA;\n",
              "      box-shadow: 0px 1px 2px rgba(60, 64, 67, 0.3), 0px 1px 3px 1px rgba(60, 64, 67, 0.15);\n",
              "      fill: #174EA6;\n",
              "    }\n",
              "\n",
              "    [theme=dark] .colab-df-convert {\n",
              "      background-color: #3B4455;\n",
              "      fill: #D2E3FC;\n",
              "    }\n",
              "\n",
              "    [theme=dark] .colab-df-convert:hover {\n",
              "      background-color: #434B5C;\n",
              "      box-shadow: 0px 1px 3px 1px rgba(0, 0, 0, 0.15);\n",
              "      filter: drop-shadow(0px 1px 2px rgba(0, 0, 0, 0.3));\n",
              "      fill: #FFFFFF;\n",
              "    }\n",
              "  </style>\n",
              "\n",
              "      <script>\n",
              "        const buttonEl =\n",
              "          document.querySelector('#df-4ab35c76-24ed-4ed8-a724-251643fdf07d button.colab-df-convert');\n",
              "        buttonEl.style.display =\n",
              "          google.colab.kernel.accessAllowed ? 'block' : 'none';\n",
              "\n",
              "        async function convertToInteractive(key) {\n",
              "          const element = document.querySelector('#df-4ab35c76-24ed-4ed8-a724-251643fdf07d');\n",
              "          const dataTable =\n",
              "            await google.colab.kernel.invokeFunction('convertToInteractive',\n",
              "                                                     [key], {});\n",
              "          if (!dataTable) return;\n",
              "\n",
              "          const docLinkHtml = 'Like what you see? Visit the ' +\n",
              "            '<a target=\"_blank\" href=https://colab.research.google.com/notebooks/data_table.ipynb>data table notebook</a>'\n",
              "            + ' to learn more about interactive tables.';\n",
              "          element.innerHTML = '';\n",
              "          dataTable['output_type'] = 'display_data';\n",
              "          await google.colab.output.renderOutput(dataTable, element);\n",
              "          const docLink = document.createElement('div');\n",
              "          docLink.innerHTML = docLinkHtml;\n",
              "          element.appendChild(docLink);\n",
              "        }\n",
              "      </script>\n",
              "    </div>\n",
              "  </div>\n",
              "  "
            ]
          },
          "metadata": {},
          "execution_count": 5
        }
      ],
      "source": [
        "# 데이터집합의 통계적 특성 조회\n",
        "data.describe()"
      ]
    },
    {
      "cell_type": "code",
      "execution_count": null,
      "metadata": {
        "colab": {
          "base_uri": "https://localhost:8080/",
          "height": 283
        },
        "id": "_AdAJTRDkPlv",
        "outputId": "257b3523-4550-44fc-da52-2d436580db0e"
      },
      "outputs": [
        {
          "output_type": "execute_result",
          "data": {
            "text/plain": [
              "<matplotlib.axes._subplots.AxesSubplot at 0x7f630b805110>"
            ]
          },
          "metadata": {},
          "execution_count": 6
        },
        {
          "output_type": "display_data",
          "data": {
            "text/plain": [
              "<Figure size 432x288 with 1 Axes>"
            ],
            "image/png": "[encoded data removed]"
          },
          "metadata": {
            "needs_background": "light"
          }
        }
      ],
      "source": [
        "# fraud_reported 열의 0과 1의 분포 확인\n",
        "data['fraud_reported'].value_counts().plot.bar(rot=0)"
      ]
    },
    {
      "cell_type": "markdown",
      "source": [
        "## 3. 데이터 준비와 분할"
      ],
      "metadata": {
        "id": "qgIIzCHdtEi7"
      }
    },
    {
      "cell_type": "code",
      "execution_count": null,
      "metadata": {
        "id": "mUOC9rGjkPl3"
      },
      "outputs": [],
      "source": [
        "# feature와 label로 구분\n",
        "X = data.drop(['fraud_reported'], axis=1)\n",
        "y = data.fraud_reported"
      ]
    },
    {
      "cell_type": "code",
      "execution_count": null,
      "metadata": {
        "id": "LFHFqsiYkPl3"
      },
      "outputs": [],
      "source": [
        "# 데이터를 학습용과 시험용으로 분할\n",
        "X_train, X_test, y_train, y_test = train_test_split(\n",
        "    StandardScaler().fit_transform(X), y, random_state=1)"
      ]
    },
    {
      "cell_type": "markdown",
      "metadata": {
        "id": "AkOtValGkPl3"
      },
      "source": [
        "## 4. 분류기 모델 생성, 평가"
      ]
    },
    {
      "cell_type": "markdown",
      "source": [
        "### 4.1 로지스틱 회귀 (Logistic Regression)\n",
        "\n",
        "로지스틱 회귀는 명칭에 \"회귀\"라는 단어가 포함되어 있지만 실제로는 \"분류\" 알고리듬임"
      ],
      "metadata": {
        "id": "M7Nr_d2-zZEr"
      }
    },
    {
      "cell_type": "code",
      "source": [
        "from sklearn.linear_model import LogisticRegression\n",
        "lr = LogisticRegression()\n",
        "lr.fit(X_train, y_train)"
      ],
      "metadata": {
        "colab": {
          "base_uri": "https://localhost:8080/"
        },
        "id": "r1yfaq8mzdfy",
        "outputId": "d62ef089-5f91-4eb2-d32b-21fcea855a97"
      },
      "execution_count": null,
      "outputs": [
        {
          "output_type": "execute_result",
          "data": {
            "text/plain": [
              "LogisticRegression()"
            ]
          },
          "metadata": {},
          "execution_count": 9
        }
      ]
    },
    {
      "cell_type": "code",
      "source": [
        "y_pred = lr.predict(X_test)\n",
        "print(classification_report(y_test, y_pred))"
      ],
      "metadata": {
        "colab": {
          "base_uri": "https://localhost:8080/"
        },
        "id": "VkSBxAom82x7",
        "outputId": "4a8a6e2c-50eb-4880-be3d-af98a81b28ac"
      },
      "execution_count": null,
      "outputs": [
        {
          "output_type": "stream",
          "name": "stdout",
          "text": [
            "              precision    recall  f1-score   support\n",
            "\n",
            "           0       0.87      0.93      0.90       180\n",
            "           1       0.78      0.64      0.70        70\n",
            "\n",
            "    accuracy                           0.85       250\n",
            "   macro avg       0.82      0.79      0.80       250\n",
            "weighted avg       0.84      0.85      0.84       250\n",
            "\n"
          ]
        }
      ]
    },
    {
      "cell_type": "code",
      "source": [
        "# 몇개의 데이터에 대한 예측\n",
        "lr.predict(X_test[:10])"
      ],
      "metadata": {
        "colab": {
          "base_uri": "https://localhost:8080/"
        },
        "id": "5KfvFaculGsV",
        "outputId": "aa2017b5-11b2-4f9f-d49f-14c69318d2b7"
      },
      "execution_count": 34,
      "outputs": [
        {
          "output_type": "execute_result",
          "data": {
            "text/plain": [
              "array([0, 0, 0, 0, 0, 1, 0, 0, 0, 0])"
            ]
          },
          "metadata": {},
          "execution_count": 34
        }
      ]
    },
    {
      "cell_type": "code",
      "source": [
        "# 몇 개의 데이터에 대한 확률 예측\n",
        "lr.predict_proba(X_test[:10])"
      ],
      "metadata": {
        "colab": {
          "base_uri": "https://localhost:8080/"
        },
        "id": "ZLC6Kj_PlOdV",
        "outputId": "919a46d4-5f3d-401d-b8ad-1f1a37e7b68e"
      },
      "execution_count": 35,
      "outputs": [
        {
          "output_type": "execute_result",
          "data": {
            "text/plain": [
              "array([[0.94583816, 0.05416184],\n",
              "       [0.92154015, 0.07845985],\n",
              "       [0.98643912, 0.01356088],\n",
              "       [0.93330503, 0.06669497],\n",
              "       [0.95561562, 0.04438438],\n",
              "       [0.4952143 , 0.5047857 ],\n",
              "       [0.55026208, 0.44973792],\n",
              "       [0.96293675, 0.03706325],\n",
              "       [0.89161508, 0.10838492],\n",
              "       [0.78502702, 0.21497298]])"
            ]
          },
          "metadata": {},
          "execution_count": 35
        }
      ]
    },
    {
      "cell_type": "markdown",
      "source": [
        "### 4.2 k-최근접 이웃 (k-Nearest Neighbors, KNN)"
      ],
      "metadata": {
        "id": "2MhVFE3225hr"
      }
    },
    {
      "cell_type": "code",
      "source": [
        "from sklearn.neighbors import KNeighborsClassifier\n",
        "knn = KNeighborsClassifier()\n",
        "knn.fit(X_train, y_train)"
      ],
      "metadata": {
        "colab": {
          "base_uri": "https://localhost:8080/"
        },
        "id": "C7eMXRTp3s60",
        "outputId": "2157aee9-e899-431a-81d2-149b1a0744c4"
      },
      "execution_count": null,
      "outputs": [
        {
          "output_type": "execute_result",
          "data": {
            "text/plain": [
              "KNeighborsClassifier()"
            ]
          },
          "metadata": {},
          "execution_count": 11
        }
      ]
    },
    {
      "cell_type": "code",
      "source": [
        "y_pred = knn.predict(X_test)\n",
        "print(classification_report(y_test, y_pred))"
      ],
      "metadata": {
        "colab": {
          "base_uri": "https://localhost:8080/"
        },
        "id": "dSjODJh49EnT",
        "outputId": "d9cf9d1e-845f-4870-9cdb-bce989a3df8d"
      },
      "execution_count": null,
      "outputs": [
        {
          "output_type": "stream",
          "name": "stdout",
          "text": [
            "              precision    recall  f1-score   support\n",
            "\n",
            "           0       0.77      0.93      0.84       180\n",
            "           1       0.61      0.29      0.39        70\n",
            "\n",
            "    accuracy                           0.75       250\n",
            "   macro avg       0.69      0.61      0.61       250\n",
            "weighted avg       0.72      0.75      0.71       250\n",
            "\n"
          ]
        }
      ]
    },
    {
      "cell_type": "markdown",
      "source": [
        "### 4.3 결정 트리 (Decision Tree)"
      ],
      "metadata": {
        "id": "wwX884-azBcT"
      }
    },
    {
      "cell_type": "code",
      "execution_count": null,
      "metadata": {
        "colab": {
          "base_uri": "https://localhost:8080/"
        },
        "id": "1cmtQ3eDkPl4",
        "outputId": "1c50f8f6-56ba-4cf9-99de-a16a91ad32cc"
      },
      "outputs": [
        {
          "output_type": "execute_result",
          "data": {
            "text/plain": [
              "DecisionTreeClassifier()"
            ]
          },
          "metadata": {},
          "execution_count": 13
        }
      ],
      "source": [
        "from sklearn.tree import DecisionTreeClassifier\n",
        "dtc = DecisionTreeClassifier()\n",
        "dtc.fit(X_train, y_train)"
      ]
    },
    {
      "cell_type": "code",
      "source": [
        "y_pred = dtc.predict(X_test)\n",
        "print(classification_report(y_test, y_pred))"
      ],
      "metadata": {
        "colab": {
          "base_uri": "https://localhost:8080/"
        },
        "id": "zbfS9PZP9ICe",
        "outputId": "35eb90fa-48b4-4ce6-ed69-21c76e4c978d"
      },
      "execution_count": null,
      "outputs": [
        {
          "output_type": "stream",
          "name": "stdout",
          "text": [
            "              precision    recall  f1-score   support\n",
            "\n",
            "           0       0.81      0.88      0.84       180\n",
            "           1       0.61      0.49      0.54        70\n",
            "\n",
            "    accuracy                           0.77       250\n",
            "   macro avg       0.71      0.68      0.69       250\n",
            "weighted avg       0.76      0.77      0.76       250\n",
            "\n"
          ]
        }
      ]
    },
    {
      "cell_type": "markdown",
      "source": [
        "### 4.4 랜덤 포레스트 (Random Forest)"
      ],
      "metadata": {
        "id": "FBL3C4UGzEcb"
      }
    },
    {
      "cell_type": "code",
      "source": [
        "from sklearn.ensemble import RandomForestClassifier\n",
        "rfc = RandomForestClassifier()\n",
        "rfc.fit(X_train, y_train)"
      ],
      "metadata": {
        "colab": {
          "base_uri": "https://localhost:8080/"
        },
        "id": "Nt_K1eIczLLy",
        "outputId": "5f9a7942-3ba6-4574-d876-10d85b32517f"
      },
      "execution_count": null,
      "outputs": [
        {
          "output_type": "execute_result",
          "data": {
            "text/plain": [
              "RandomForestClassifier()"
            ]
          },
          "metadata": {},
          "execution_count": 15
        }
      ]
    },
    {
      "cell_type": "code",
      "source": [
        "y_pred = rfc.predict(X_test)\n",
        "print(classification_report(y_test, y_pred))"
      ],
      "metadata": {
        "colab": {
          "base_uri": "https://localhost:8080/"
        },
        "id": "iqd916bhApab",
        "outputId": "b18f8f43-ee6f-41fb-a610-71b84112e9f3"
      },
      "execution_count": null,
      "outputs": [
        {
          "output_type": "stream",
          "name": "stdout",
          "text": [
            "              precision    recall  f1-score   support\n",
            "\n",
            "           0       0.83      0.92      0.88       180\n",
            "           1       0.73      0.53      0.61        70\n",
            "\n",
            "    accuracy                           0.81       250\n",
            "   macro avg       0.78      0.73      0.74       250\n",
            "weighted avg       0.80      0.81      0.80       250\n",
            "\n"
          ]
        }
      ]
    },
    {
      "cell_type": "markdown",
      "source": [
        "### 4.5 XGBoost (eXtreme Gradient Boosting)\n"
      ],
      "metadata": {
        "id": "RBJCaLj20BiK"
      }
    },
    {
      "cell_type": "code",
      "source": [
        "from xgboost import XGBClassifier\n",
        "xgbc = XGBClassifier()\n",
        "xgbc.fit(X_train, y_train)"
      ],
      "metadata": {
        "colab": {
          "base_uri": "https://localhost:8080/"
        },
        "id": "sqlxOA_g2ZAB",
        "outputId": "a4f3ee5e-0949-42aa-f529-7837043faafe"
      },
      "execution_count": null,
      "outputs": [
        {
          "output_type": "execute_result",
          "data": {
            "text/plain": [
              "XGBClassifier()"
            ]
          },
          "metadata": {},
          "execution_count": 17
        }
      ]
    },
    {
      "cell_type": "code",
      "source": [
        "y_pred = xgbc.predict(X_test)\n",
        "print(classification_report(y_test, y_pred))"
      ],
      "metadata": {
        "colab": {
          "base_uri": "https://localhost:8080/"
        },
        "id": "3xID3MYzAkvG",
        "outputId": "a7587ad0-1f8d-4b27-a538-62e2eebf9d87"
      },
      "execution_count": null,
      "outputs": [
        {
          "output_type": "stream",
          "name": "stdout",
          "text": [
            "              precision    recall  f1-score   support\n",
            "\n",
            "           0       0.85      0.91      0.88       180\n",
            "           1       0.71      0.59      0.64        70\n",
            "\n",
            "    accuracy                           0.82       250\n",
            "   macro avg       0.78      0.75      0.76       250\n",
            "weighted avg       0.81      0.82      0.81       250\n",
            "\n"
          ]
        }
      ]
    },
    {
      "cell_type": "markdown",
      "source": [
        "### 4.6 다층 퍼셉트론 (Multi-Layer Perceptron)"
      ],
      "metadata": {
        "id": "YKVREtnKAHAj"
      }
    },
    {
      "cell_type": "code",
      "source": [
        "from sklearn.neural_network import MLPClassifier\n",
        "mlpc = MLPClassifier()\n",
        "mlpc.fit(X_train, y_train)"
      ],
      "metadata": {
        "colab": {
          "base_uri": "https://localhost:8080/"
        },
        "id": "3s4NaBT6Abla",
        "outputId": "3780ce59-707f-453d-98c3-73553a24454d"
      },
      "execution_count": null,
      "outputs": [
        {
          "output_type": "stream",
          "name": "stderr",
          "text": [
            "/usr/local/lib/python3.7/dist-packages/sklearn/neural_network/_multilayer_perceptron.py:696: ConvergenceWarning: Stochastic Optimizer: Maximum iterations (200) reached and the optimization hasn't converged yet.\n",
            "  ConvergenceWarning,\n"
          ]
        },
        {
          "output_type": "execute_result",
          "data": {
            "text/plain": [
              "MLPClassifier()"
            ]
          },
          "metadata": {},
          "execution_count": 19
        }
      ]
    },
    {
      "cell_type": "code",
      "source": [
        "y_pred = mlpc.predict(X_test)\n",
        "print(classification_report(y_test, y_pred))"
      ],
      "metadata": {
        "colab": {
          "base_uri": "https://localhost:8080/"
        },
        "id": "I8og-sCuFBnU",
        "outputId": "92536157-505f-4a61-dd42-f1b38819de6c"
      },
      "execution_count": null,
      "outputs": [
        {
          "output_type": "stream",
          "name": "stdout",
          "text": [
            "              precision    recall  f1-score   support\n",
            "\n",
            "           0       0.84      0.91      0.87       180\n",
            "           1       0.70      0.56      0.62        70\n",
            "\n",
            "    accuracy                           0.81       250\n",
            "   macro avg       0.77      0.73      0.75       250\n",
            "weighted avg       0.80      0.81      0.80       250\n",
            "\n"
          ]
        }
      ]
    },
    {
      "cell_type": "markdown",
      "metadata": {
        "id": "FW0DA_VikPl4"
      },
      "source": [
        "## 5. 더 좋은 모델 찾기\n",
        "### 결정 트리 사례"
      ]
    },
    {
      "cell_type": "code",
      "source": [
        "# 현재 사용중인 매개변수 확인\n",
        "dtc.get_params()"
      ],
      "metadata": {
        "colab": {
          "base_uri": "https://localhost:8080/"
        },
        "id": "Ix-O5N0G52_D",
        "outputId": "6cfe3a23-ae97-465e-df59-9cc2a5a8a538"
      },
      "execution_count": null,
      "outputs": [
        {
          "output_type": "execute_result",
          "data": {
            "text/plain": [
              "{'ccp_alpha': 0.0,\n",
              " 'class_weight': None,\n",
              " 'criterion': 'gini',\n",
              " 'max_depth': None,\n",
              " 'max_features': None,\n",
              " 'max_leaf_nodes': None,\n",
              " 'min_impurity_decrease': 0.0,\n",
              " 'min_samples_leaf': 1,\n",
              " 'min_samples_split': 2,\n",
              " 'min_weight_fraction_leaf': 0.0,\n",
              " 'random_state': None,\n",
              " 'splitter': 'best'}"
            ]
          },
          "metadata": {},
          "execution_count": 21
        }
      ]
    },
    {
      "cell_type": "code",
      "source": [
        "# 교차 검증 기능으로 wrap하여 훈련시킴\n",
        "dtr = RandomizedSearchCV(\n",
        "    estimator=DecisionTreeClassifier(), \n",
        "    param_distributions=dict(criterion=['gini', 'entropy'],\n",
        "                             max_depth=[2,4,6,8,10,12]), \n",
        "    n_iter=10, cv=3, \n",
        "    verbose=2, random_state=42, n_jobs=-1)\n",
        "dtr.fit(X_train, y_train)"
      ],
      "metadata": {
        "colab": {
          "base_uri": "https://localhost:8080/"
        },
        "id": "Vx1SlZGn-xVk",
        "outputId": "310b8fab-b6c2-41ee-c820-d50971762d84"
      },
      "execution_count": null,
      "outputs": [
        {
          "output_type": "stream",
          "name": "stdout",
          "text": [
            "Fitting 3 folds for each of 10 candidates, totalling 30 fits\n"
          ]
        },
        {
          "output_type": "execute_result",
          "data": {
            "text/plain": [
              "RandomizedSearchCV(cv=3, estimator=DecisionTreeClassifier(), n_jobs=-1,\n",
              "                   param_distributions={'criterion': ['gini', 'entropy'],\n",
              "                                        'max_depth': [2, 4, 6, 8, 10, 12]},\n",
              "                   random_state=42, verbose=2)"
            ]
          },
          "metadata": {},
          "execution_count": 22
        }
      ]
    },
    {
      "cell_type": "code",
      "source": [
        "y_pred = dtr.predict(X_test)\n",
        "print(classification_report(y_test, y_pred))"
      ],
      "metadata": {
        "colab": {
          "base_uri": "https://localhost:8080/"
        },
        "id": "Umf7CTk6Di_G",
        "outputId": "ccf13541-9eeb-4ed4-e746-b07fa6335dc6"
      },
      "execution_count": null,
      "outputs": [
        {
          "output_type": "stream",
          "name": "stdout",
          "text": [
            "              precision    recall  f1-score   support\n",
            "\n",
            "           0       0.87      0.86      0.86       180\n",
            "           1       0.64      0.66      0.65        70\n",
            "\n",
            "    accuracy                           0.80       250\n",
            "   macro avg       0.75      0.76      0.75       250\n",
            "weighted avg       0.80      0.80      0.80       250\n",
            "\n"
          ]
        }
      ]
    },
    {
      "cell_type": "markdown",
      "source": [
        "이 결과가 4.3에서 생성한 결정 트리 모델 dtc에 비해 더 나은 결과를 산출했나요? 제3주차 강의에서 학습한 FLAML을 사용한 경우과 비교할 경우는 어떠한가요?"
      ],
      "metadata": {
        "id": "DZRjePbnRYuE"
      }
    },
    {
      "cell_type": "markdown",
      "source": [
        "## 6. 모델 설명"
      ],
      "metadata": {
        "id": "umCos_XoJqZ0"
      }
    },
    {
      "cell_type": "markdown",
      "source": [
        "### 로지스틱 회귀 사례"
      ],
      "metadata": {
        "id": "Wt674lfNJvmD"
      }
    },
    {
      "cell_type": "code",
      "source": [
        "lr_exp = pd.DataFrame({'feature': X.columns.tolist(), 'coef': lr.coef_[0]})\n",
        "print(lr_exp)\n",
        "lr_exp.plot(kind='barh', x='feature', y='coef', figsize=(12, 15))"
      ],
      "metadata": {
        "colab": {
          "base_uri": "https://localhost:8080/",
          "height": 1000
        },
        "id": "OxxVbZ5AJyva",
        "outputId": "f1e7fb3d-88c9-4685-f09e-a1fa2a984745"
      },
      "execution_count": null,
      "outputs": [
        {
          "output_type": "stream",
          "name": "stdout",
          "text": [
            "                                   feature      coef\n",
            "0                            capital-gains -0.010325\n",
            "1                             capital-loss -0.079481\n",
            "2                 incident_hour_of_the_day -0.070583\n",
            "3              number_of_vehicles_involved  0.189228\n",
            "4                                witnesses  0.087786\n",
            "..                                     ...       ...\n",
            "62       policy_annual_premium_groups_high -0.031996\n",
            "63        policy_annual_premium_groups_low  0.081900\n",
            "64     policy_annual_premium_groups_medium -0.052027\n",
            "65  policy_annual_premium_groups_very high -0.123407\n",
            "66   policy_annual_premium_groups_very low  0.225887\n",
            "\n",
            "[67 rows x 2 columns]\n"
          ]
        },
        {
          "output_type": "execute_result",
          "data": {
            "text/plain": [
              "<matplotlib.axes._subplots.AxesSubplot at 0x7f62ff13f390>"
            ]
          },
          "metadata": {},
          "execution_count": 24
        },
        {
          "output_type": "display_data",
          "data": {
            "text/plain": [
              "<Figure size 864x1080 with 1 Axes>"
            ],
            "image/png": "[encoded data removed]"
          },
          "metadata": {
            "needs_background": "light"
          }
        }
      ]
    },
    {
      "cell_type": "markdown",
      "source": [
        "### 결정 트리 사례"
      ],
      "metadata": {
        "id": "eEUj7KWRJ6Fs"
      }
    },
    {
      "cell_type": "code",
      "source": [
        "from sklearn import tree\n",
        "plt.figure(figsize=(10, 5), dpi=600)\n",
        "_ = tree.plot_tree(dtc, feature_names=X.columns.tolist(), max_depth=3, filled=None)"
      ],
      "metadata": {
        "id": "IrcHM4i3J8Cs"
      },
      "execution_count": null,
      "outputs": []
    },
    {
      "cell_type": "markdown",
      "metadata": {
        "id": "JutdeKcQkPl6"
      },
      "source": [
        "## 결론\n",
        "\n",
        "Scikit-Learn은 분류 문제를 위한 다양한 머신러닝 알고리듬을 제공합니다. 각 알고리듬은 각기 다른 방법으로 학습하지만 Scikit-Learn은 모든 학습에 \"fit\", 예측에 \"predict\" 메서드를 사용하는 것과 같은 방법으로 단일화된 인터페이스를 제공합니다. 그 결과 새로운 알고리듬을 학습하더라도 프로그래밍 스타일은 기존과 동일한 스타일을 유지할 수 있습니다.\n",
        "\n",
        "Scikit-Learn 수준의 머신러닝 프로그래밍은 FLAML이나 AutoKeras과 같은 AutoML 기능을 사용할 때와는 달리 어떤 알고리듬을 사용하지 직접 결정해야 하고, 선택된 알고리듬을 위한 최적 하이퍼매개변수도 직접 결정하거나 교차검증과 같은 방법으로 직접 찾아야 합니다. 그러나 경험 많은 개발자가 많은 노력을 투입하면 AutoML을 사용할 때보다 적은 시간에 더 정교하게 최적화된 모델을 얻을 수 있는 가능성도 있습니다.\n",
        "\n",
        "머신러닝 모델에 대한 설명 기능은 사용된 알고리듬의 종류에 따라 다양한 방법으로 조회하여야 하며, 그 결과의 형태도 균일하지 않습니다. 모델을 블랙박스로 간주하고 그 모델의 기능을 모방하는 대리모델을 사용하여 알고리듬에 종속되지 않은 방법으로 모델이나 예측을 설명하는 방법도 있습니다."
      ]
    }
  ],
  "metadata": {
    "colab": {
      "name": "Module_11_(Insurance_Fraud_Detection).ipynb",
      "provenance": [],
      "collapsed_sections": []
    },
    "kernelspec": {
      "display_name": "Python 3 (ipykernel)",
      "language": "python",
      "name": "python3"
    },
    "language_info": {
      "codemirror_mode": {
        "name": "ipython",
        "version": 3
      },
      "file_extension": ".py",
      "mimetype": "text/x-python",
      "name": "python",
      "nbconvert_exporter": "python",
      "pygments_lexer": "ipython3",
      "version": "3.9.7"
    },
    "toc": {
      "base_numbering": 1,
      "nav_menu": {},
      "number_sections": true,
      "sideBar": true,
      "skip_h1_title": false,
      "title_cell": "Table of Contents",
      "title_sidebar": "Contents",
      "toc_cell": false,
      "toc_position": {},
      "toc_section_display": true,
      "toc_window_display": false
    }
  },
  "nbformat": 4,
  "nbformat_minor": 0
}