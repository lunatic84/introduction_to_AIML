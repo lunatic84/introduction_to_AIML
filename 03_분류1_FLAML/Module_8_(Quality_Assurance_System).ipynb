{
  "cells": [
    {
      "cell_type": "markdown",
      "metadata": {
        "id": "PK3W0tk8kPlc"
      },
      "source": [
        "# 품질보증 시스템\n",
        "\n",
        "## 문제\n",
        "품질관리는 모든 제조업에서 매우 중요합니다. 이것은 대량의 강판을 생산하는 제조 산업에 특히 해당됩니다. 강판 결함이란 무엇일까요? 결함은 관찰된 변수 또는 프로세스와 관련된 계산된 매개변수의 허용 가능한 범위 밖에 있는 값입니다. \n",
        "예를 들어 두께가 10cm이고 오차 범위가 ±2cm인 강판을 사용하는 것이 허용됩니다. 따라서 두께가 8.0cm에서 12.0cm 사이인 경우 강판을 사용할 수 있습니다. 단, 두께가 7.5cm인 경우에는 허용되지 않습니다.\n",
        "\n",
        "오류는 장비 고장, 센서성능 저하 또는 프로세스 장애로 인한 비정상적인 프로세스 동작으로도 정의됩니다. 예를 들어 강판의 흠집은 결함입니다.\n",
        "\n",
        "당신은 강판 제조 회사에서 일하고 있습니다.\n",
        "당신의 팀은 지속적으로 품질이 저하되고 있으며, 강철판 결함이 많습니다. 철판 결함을 하나하나 확인하는 데 많은 비용과 인력, 시간이 소요됩니다.\n",
        "상사가 결함을 자동으로 찾을 수 있는 방법을 알아봐 주길 원합니다. 회사에 도움이 될 생산 품질 데이터가 있습니다.\n",
        "\n",
        "## 데이터\n",
        "본 강의에서는 [Dataset]_Module8_(Quality).csv 파일을 사용하여 실험을 진행하겠습니다."
      ]
    },
    {
      "cell_type": "markdown",
      "metadata": {
        "id": "1cIcpLBDcjS1"
      },
      "source": [
        "## 0. 머신러닝 패키지 준비"
      ]
    },
    {
      "cell_type": "markdown",
      "metadata": {
        "id": "LjjZkpIlcvV0"
      },
      "source": [
        "### 0.1 필요한 패키지 설치"
      ]
    },
    {
      "cell_type": "code",
      "execution_count": 1,
      "metadata": {
        "id": "dlNOXUYLz80z"
      },
      "outputs": [],
      "source": [
        "pip install flaml[notebook] --quiet"
      ]
    },
    {
      "cell_type": "markdown",
      "metadata": {
        "id": "MUOWruYBc5K0"
      },
      "source": [
        "### 0.2 라이브러리 패키지 불러오기\n",
        "이 단계는 필요에 따라 적절한 시점까지 미룰 수 있음"
      ]
    },
    {
      "cell_type": "code",
      "execution_count": 2,
      "metadata": {
        "id": "8_V-MOV5kPlo"
      },
      "outputs": [],
      "source": [
        "import numpy as np \n",
        "import pandas as pd\n",
        "import matplotlib.pyplot as plt\n",
        "\n",
        "from sklearn.preprocessing import StandardScaler\n",
        "from sklearn.model_selection import train_test_split\n",
        "from sklearn.metrics import classification_report\n",
        "\n",
        "import flaml"
      ]
    },
    {
      "cell_type": "markdown",
      "metadata": {
        "id": "fSNLtc6a0aOS"
      },
      "source": [
        "## 1. 데이터집합 로드\n",
        "Pandas는 데이터 과학을 위한 인기 있는 Python 라이브러리입니다. 강력하고 유연한 데이터 구조를 제공하여 데이터 조작 및 분석을 더 쉽게 만듭니다.Pandas의 read_csv() 함수를 사용하여 CSV(Comma-Separated Values) 형식의 파일을 손쉽게 로드할 수 있습니다."
      ]
    },
    {
      "cell_type": "code",
      "execution_count": 3,
      "metadata": {
        "colab": {
          "base_uri": "https://localhost:8080/",
          "height": 299
        },
        "id": "daLalCzDkPlp",
        "outputId": "297be46f-cf8d-4fac-ec8d-65eb39239aaf"
      },
      "outputs": [
        {
          "data": {
            "text/html": [
              "\n",
              "  <div id=\"df-7571a590-b787-431b-94ab-4fb12cadd197\">\n",
              "    <div class=\"colab-df-container\">\n",
              "      <div>\n",
              "<style scoped>\n",
              "    .dataframe tbody tr th:only-of-type {\n",
              "        vertical-align: middle;\n",
              "    }\n",
              "\n",
              "    .dataframe tbody tr th {\n",
              "        vertical-align: top;\n",
              "    }\n",
              "\n",
              "    .dataframe thead th {\n",
              "        text-align: right;\n",
              "    }\n",
              "</style>\n",
              "<table border=\"1\" class=\"dataframe\">\n",
              "  <thead>\n",
              "    <tr style=\"text-align: right;\">\n",
              "      <th></th>\n",
              "      <th>X_Minimum</th>\n",
              "      <th>X_Maximum</th>\n",
              "      <th>Y_Minimum</th>\n",
              "      <th>Y_Maximum</th>\n",
              "      <th>Pixels_Areas</th>\n",
              "      <th>X_Perimeter</th>\n",
              "      <th>Y_Perimeter</th>\n",
              "      <th>Sum_of_Luminosity</th>\n",
              "      <th>Minimum_of_Luminosity</th>\n",
              "      <th>Maximum_of_Luminosity</th>\n",
              "      <th>...</th>\n",
              "      <th>Edges_X_Index</th>\n",
              "      <th>Edges_Y_Index</th>\n",
              "      <th>Outside_Global_Index</th>\n",
              "      <th>LogOfAreas</th>\n",
              "      <th>Log_X_Index</th>\n",
              "      <th>Log_Y_Index</th>\n",
              "      <th>Orientation_Index</th>\n",
              "      <th>Luminosity_Index</th>\n",
              "      <th>SigmoidOfAreas</th>\n",
              "      <th>Fault_Types</th>\n",
              "    </tr>\n",
              "  </thead>\n",
              "  <tbody>\n",
              "    <tr>\n",
              "      <th>0</th>\n",
              "      <td>42</td>\n",
              "      <td>50</td>\n",
              "      <td>270900</td>\n",
              "      <td>270944</td>\n",
              "      <td>267</td>\n",
              "      <td>17</td>\n",
              "      <td>44</td>\n",
              "      <td>24220</td>\n",
              "      <td>76</td>\n",
              "      <td>108</td>\n",
              "      <td>...</td>\n",
              "      <td>0.4706</td>\n",
              "      <td>1.0000</td>\n",
              "      <td>1.0</td>\n",
              "      <td>2.4265</td>\n",
              "      <td>0.9031</td>\n",
              "      <td>1.6435</td>\n",
              "      <td>0.8182</td>\n",
              "      <td>-0.2913</td>\n",
              "      <td>0.5822</td>\n",
              "      <td>Pastry</td>\n",
              "    </tr>\n",
              "    <tr>\n",
              "      <th>1</th>\n",
              "      <td>645</td>\n",
              "      <td>651</td>\n",
              "      <td>2538079</td>\n",
              "      <td>2538108</td>\n",
              "      <td>108</td>\n",
              "      <td>10</td>\n",
              "      <td>30</td>\n",
              "      <td>11397</td>\n",
              "      <td>84</td>\n",
              "      <td>123</td>\n",
              "      <td>...</td>\n",
              "      <td>0.6000</td>\n",
              "      <td>0.9667</td>\n",
              "      <td>1.0</td>\n",
              "      <td>2.0334</td>\n",
              "      <td>0.7782</td>\n",
              "      <td>1.4624</td>\n",
              "      <td>0.7931</td>\n",
              "      <td>-0.1756</td>\n",
              "      <td>0.2984</td>\n",
              "      <td>Pastry</td>\n",
              "    </tr>\n",
              "    <tr>\n",
              "      <th>2</th>\n",
              "      <td>829</td>\n",
              "      <td>835</td>\n",
              "      <td>1553913</td>\n",
              "      <td>1553931</td>\n",
              "      <td>71</td>\n",
              "      <td>8</td>\n",
              "      <td>19</td>\n",
              "      <td>7972</td>\n",
              "      <td>99</td>\n",
              "      <td>125</td>\n",
              "      <td>...</td>\n",
              "      <td>0.7500</td>\n",
              "      <td>0.9474</td>\n",
              "      <td>1.0</td>\n",
              "      <td>1.8513</td>\n",
              "      <td>0.7782</td>\n",
              "      <td>1.2553</td>\n",
              "      <td>0.6667</td>\n",
              "      <td>-0.1228</td>\n",
              "      <td>0.2150</td>\n",
              "      <td>Pastry</td>\n",
              "    </tr>\n",
              "    <tr>\n",
              "      <th>3</th>\n",
              "      <td>853</td>\n",
              "      <td>860</td>\n",
              "      <td>369370</td>\n",
              "      <td>369415</td>\n",
              "      <td>176</td>\n",
              "      <td>13</td>\n",
              "      <td>45</td>\n",
              "      <td>18996</td>\n",
              "      <td>99</td>\n",
              "      <td>126</td>\n",
              "      <td>...</td>\n",
              "      <td>0.5385</td>\n",
              "      <td>1.0000</td>\n",
              "      <td>1.0</td>\n",
              "      <td>2.2455</td>\n",
              "      <td>0.8451</td>\n",
              "      <td>1.6532</td>\n",
              "      <td>0.8444</td>\n",
              "      <td>-0.1568</td>\n",
              "      <td>0.5212</td>\n",
              "      <td>Pastry</td>\n",
              "    </tr>\n",
              "    <tr>\n",
              "      <th>4</th>\n",
              "      <td>1289</td>\n",
              "      <td>1306</td>\n",
              "      <td>498078</td>\n",
              "      <td>498335</td>\n",
              "      <td>2409</td>\n",
              "      <td>60</td>\n",
              "      <td>260</td>\n",
              "      <td>246930</td>\n",
              "      <td>37</td>\n",
              "      <td>126</td>\n",
              "      <td>...</td>\n",
              "      <td>0.2833</td>\n",
              "      <td>0.9885</td>\n",
              "      <td>1.0</td>\n",
              "      <td>3.3818</td>\n",
              "      <td>1.2305</td>\n",
              "      <td>2.4099</td>\n",
              "      <td>0.9338</td>\n",
              "      <td>-0.1992</td>\n",
              "      <td>1.0000</td>\n",
              "      <td>Pastry</td>\n",
              "    </tr>\n",
              "  </tbody>\n",
              "</table>\n",
              "<p>5 rows × 28 columns</p>\n",
              "</div>\n",
              "      <button class=\"colab-df-convert\" onclick=\"convertToInteractive('df-7571a590-b787-431b-94ab-4fb12cadd197')\"\n",
              "              title=\"Convert this dataframe to an interactive table.\"\n",
              "              style=\"display:none;\">\n",
              "        \n",
              "  <svg xmlns=\"http://www.w3.org/2000/svg\" height=\"24px\"viewBox=\"0 0 24 24\"\n",
              "       width=\"24px\">\n",
              "    <path d=\"M0 0h24v24H0V0z\" fill=\"none\"/>\n",
              "    <path d=\"M18.56 5.44l.94 2.06.94-2.06 2.06-.94-2.06-.94-.94-2.06-.94 2.06-2.06.94zm-11 1L8.5 8.5l.94-2.06 2.06-.94-2.06-.94L8.5 2.5l-.94 2.06-2.06.94zm10 10l.94 2.06.94-2.06 2.06-.94-2.06-.94-.94-2.06-.94 2.06-2.06.94z\"/><path d=\"M17.41 7.96l-1.37-1.37c-.4-.4-.92-.59-1.43-.59-.52 0-1.04.2-1.43.59L10.3 9.45l-7.72 7.72c-.78.78-.78 2.05 0 2.83L4 21.41c.39.39.9.59 1.41.59.51 0 1.02-.2 1.41-.59l7.78-7.78 2.81-2.81c.8-.78.8-2.07 0-2.86zM5.41 20L4 18.59l7.72-7.72 1.47 1.35L5.41 20z\"/>\n",
              "  </svg>\n",
              "      </button>\n",
              "      \n",
              "  <style>\n",
              "    .colab-df-container {\n",
              "      display:flex;\n",
              "      flex-wrap:wrap;\n",
              "      gap: 12px;\n",
              "    }\n",
              "\n",
              "    .colab-df-convert {\n",
              "      background-color: #E8F0FE;\n",
              "      border: none;\n",
              "      border-radius: 50%;\n",
              "      cursor: pointer;\n",
              "      display: none;\n",
              "      fill: #1967D2;\n",
              "      height: 32px;\n",
              "      padding: 0 0 0 0;\n",
              "      width: 32px;\n",
              "    }\n",
              "\n",
              "    .colab-df-convert:hover {\n",
              "      background-color: #E2EBFA;\n",
              "      box-shadow: 0px 1px 2px rgba(60, 64, 67, 0.3), 0px 1px 3px 1px rgba(60, 64, 67, 0.15);\n",
              "      fill: #174EA6;\n",
              "    }\n",
              "\n",
              "    [theme=dark] .colab-df-convert {\n",
              "      background-color: #3B4455;\n",
              "      fill: #D2E3FC;\n",
              "    }\n",
              "\n",
              "    [theme=dark] .colab-df-convert:hover {\n",
              "      background-color: #434B5C;\n",
              "      box-shadow: 0px 1px 3px 1px rgba(0, 0, 0, 0.15);\n",
              "      filter: drop-shadow(0px 1px 2px rgba(0, 0, 0, 0.3));\n",
              "      fill: #FFFFFF;\n",
              "    }\n",
              "  </style>\n",
              "\n",
              "      <script>\n",
              "        const buttonEl =\n",
              "          document.querySelector('#df-7571a590-b787-431b-94ab-4fb12cadd197 button.colab-df-convert');\n",
              "        buttonEl.style.display =\n",
              "          google.colab.kernel.accessAllowed ? 'block' : 'none';\n",
              "\n",
              "        async function convertToInteractive(key) {\n",
              "          const element = document.querySelector('#df-7571a590-b787-431b-94ab-4fb12cadd197');\n",
              "          const dataTable =\n",
              "            await google.colab.kernel.invokeFunction('convertToInteractive',\n",
              "                                                     [key], {});\n",
              "          if (!dataTable) return;\n",
              "\n",
              "          const docLinkHtml = 'Like what you see? Visit the ' +\n",
              "            '<a target=\"_blank\" href=https://colab.research.google.com/notebooks/data_table.ipynb>data table notebook</a>'\n",
              "            + ' to learn more about interactive tables.';\n",
              "          element.innerHTML = '';\n",
              "          dataTable['output_type'] = 'display_data';\n",
              "          await google.colab.output.renderOutput(dataTable, element);\n",
              "          const docLink = document.createElement('div');\n",
              "          docLink.innerHTML = docLinkHtml;\n",
              "          element.appendChild(docLink);\n",
              "        }\n",
              "      </script>\n",
              "    </div>\n",
              "  </div>\n",
              "  "
            ],
            "text/plain": [
              "   X_Minimum  X_Maximum  Y_Minimum  Y_Maximum  Pixels_Areas  X_Perimeter  \\\n",
              "0         42         50     270900     270944           267           17   \n",
              "1        645        651    2538079    2538108           108           10   \n",
              "2        829        835    1553913    1553931            71            8   \n",
              "3        853        860     369370     369415           176           13   \n",
              "4       1289       1306     498078     498335          2409           60   \n",
              "\n",
              "   Y_Perimeter  Sum_of_Luminosity  Minimum_of_Luminosity  \\\n",
              "0           44              24220                     76   \n",
              "1           30              11397                     84   \n",
              "2           19               7972                     99   \n",
              "3           45              18996                     99   \n",
              "4          260             246930                     37   \n",
              "\n",
              "   Maximum_of_Luminosity  ...  Edges_X_Index  Edges_Y_Index  \\\n",
              "0                    108  ...         0.4706         1.0000   \n",
              "1                    123  ...         0.6000         0.9667   \n",
              "2                    125  ...         0.7500         0.9474   \n",
              "3                    126  ...         0.5385         1.0000   \n",
              "4                    126  ...         0.2833         0.9885   \n",
              "\n",
              "   Outside_Global_Index  LogOfAreas  Log_X_Index  Log_Y_Index  \\\n",
              "0                   1.0      2.4265       0.9031       1.6435   \n",
              "1                   1.0      2.0334       0.7782       1.4624   \n",
              "2                   1.0      1.8513       0.7782       1.2553   \n",
              "3                   1.0      2.2455       0.8451       1.6532   \n",
              "4                   1.0      3.3818       1.2305       2.4099   \n",
              "\n",
              "   Orientation_Index  Luminosity_Index  SigmoidOfAreas  Fault_Types  \n",
              "0             0.8182           -0.2913          0.5822       Pastry  \n",
              "1             0.7931           -0.1756          0.2984       Pastry  \n",
              "2             0.6667           -0.1228          0.2150       Pastry  \n",
              "3             0.8444           -0.1568          0.5212       Pastry  \n",
              "4             0.9338           -0.1992          1.0000       Pastry  \n",
              "\n",
              "[5 rows x 28 columns]"
            ]
          },
          "execution_count": 3,
          "metadata": {},
          "output_type": "execute_result"
        }
      ],
      "source": [
        "data = pd.read_csv('[Dataset]_Module8_(Quality).csv')\n",
        "data.head()"
      ]
    },
    {
      "cell_type": "code",
      "execution_count": 4,
      "metadata": {
        "colab": {
          "base_uri": "https://localhost:8080/"
        },
        "id": "b_ghB1-e8yYC",
        "outputId": "73ea84d3-b7b4-4e66-f64f-75ecdc9192d1"
      },
      "outputs": [
        {
          "data": {
            "text/plain": [
              "(1941, 28)"
            ]
          },
          "execution_count": 4,
          "metadata": {},
          "output_type": "execute_result"
        }
      ],
      "source": [
        "data.shape"
      ]
    },
    {
      "cell_type": "code",
      "execution_count": 5,
      "metadata": {
        "colab": {
          "base_uri": "https://localhost:8080/"
        },
        "id": "6uW7o9CQNOAX",
        "outputId": "28274d3a-cfa7-4cbb-e430-2d11ea3e86ee"
      },
      "outputs": [
        {
          "data": {
            "text/plain": [
              "Index(['X_Minimum', 'X_Maximum', 'Y_Minimum', 'Y_Maximum', 'Pixels_Areas',\n",
              "       'X_Perimeter', 'Y_Perimeter', 'Sum_of_Luminosity',\n",
              "       'Minimum_of_Luminosity', 'Maximum_of_Luminosity', 'Length_of_Conveyer',\n",
              "       'TypeOfSteel_A300', 'TypeOfSteel_A400', 'Steel_Plate_Thickness',\n",
              "       'Edges_Index', 'Empty_Index', 'Square_Index', 'Outside_X_Index',\n",
              "       'Edges_X_Index', 'Edges_Y_Index', 'Outside_Global_Index', 'LogOfAreas',\n",
              "       'Log_X_Index', 'Log_Y_Index', 'Orientation_Index', 'Luminosity_Index',\n",
              "       'SigmoidOfAreas', 'Fault_Types'],\n",
              "      dtype='object')"
            ]
          },
          "execution_count": 5,
          "metadata": {},
          "output_type": "execute_result"
        }
      ],
      "source": [
        "data.columns"
      ]
    },
    {
      "cell_type": "markdown",
      "metadata": {
        "id": "fywZdNTqoZqj"
      },
      "source": [
        "## 2. 데이터 탐색 (Exploratory Data Analysis, EDA)"
      ]
    },
    {
      "cell_type": "code",
      "execution_count": 6,
      "metadata": {
        "colab": {
          "base_uri": "https://localhost:8080/",
          "height": 394
        },
        "id": "e7vhsKnBkPlu",
        "outputId": "9de505b7-634e-49e9-bed6-aa9e5a8147bb"
      },
      "outputs": [
        {
          "data": {
            "text/html": [
              "\n",
              "  <div id=\"df-93de6398-9b42-4531-8156-917dadbd3378\">\n",
              "    <div class=\"colab-df-container\">\n",
              "      <div>\n",
              "<style scoped>\n",
              "    .dataframe tbody tr th:only-of-type {\n",
              "        vertical-align: middle;\n",
              "    }\n",
              "\n",
              "    .dataframe tbody tr th {\n",
              "        vertical-align: top;\n",
              "    }\n",
              "\n",
              "    .dataframe thead th {\n",
              "        text-align: right;\n",
              "    }\n",
              "</style>\n",
              "<table border=\"1\" class=\"dataframe\">\n",
              "  <thead>\n",
              "    <tr style=\"text-align: right;\">\n",
              "      <th></th>\n",
              "      <th>X_Minimum</th>\n",
              "      <th>X_Maximum</th>\n",
              "      <th>Y_Minimum</th>\n",
              "      <th>Y_Maximum</th>\n",
              "      <th>Pixels_Areas</th>\n",
              "      <th>X_Perimeter</th>\n",
              "      <th>Y_Perimeter</th>\n",
              "      <th>Sum_of_Luminosity</th>\n",
              "      <th>Minimum_of_Luminosity</th>\n",
              "      <th>Maximum_of_Luminosity</th>\n",
              "      <th>...</th>\n",
              "      <th>Outside_X_Index</th>\n",
              "      <th>Edges_X_Index</th>\n",
              "      <th>Edges_Y_Index</th>\n",
              "      <th>Outside_Global_Index</th>\n",
              "      <th>LogOfAreas</th>\n",
              "      <th>Log_X_Index</th>\n",
              "      <th>Log_Y_Index</th>\n",
              "      <th>Orientation_Index</th>\n",
              "      <th>Luminosity_Index</th>\n",
              "      <th>SigmoidOfAreas</th>\n",
              "    </tr>\n",
              "  </thead>\n",
              "  <tbody>\n",
              "    <tr>\n",
              "      <th>count</th>\n",
              "      <td>1941.000000</td>\n",
              "      <td>1941.000000</td>\n",
              "      <td>1.941000e+03</td>\n",
              "      <td>1.941000e+03</td>\n",
              "      <td>1941.000000</td>\n",
              "      <td>1941.000000</td>\n",
              "      <td>1941.000000</td>\n",
              "      <td>1.941000e+03</td>\n",
              "      <td>1941.000000</td>\n",
              "      <td>1941.000000</td>\n",
              "      <td>...</td>\n",
              "      <td>1941.000000</td>\n",
              "      <td>1941.000000</td>\n",
              "      <td>1941.000000</td>\n",
              "      <td>1941.000000</td>\n",
              "      <td>1941.000000</td>\n",
              "      <td>1941.000000</td>\n",
              "      <td>1941.000000</td>\n",
              "      <td>1941.000000</td>\n",
              "      <td>1941.000000</td>\n",
              "      <td>1941.000000</td>\n",
              "    </tr>\n",
              "    <tr>\n",
              "      <th>mean</th>\n",
              "      <td>571.136012</td>\n",
              "      <td>617.964451</td>\n",
              "      <td>1.650685e+06</td>\n",
              "      <td>1.650739e+06</td>\n",
              "      <td>1893.878413</td>\n",
              "      <td>111.855229</td>\n",
              "      <td>82.965997</td>\n",
              "      <td>2.063121e+05</td>\n",
              "      <td>84.548686</td>\n",
              "      <td>130.193715</td>\n",
              "      <td>...</td>\n",
              "      <td>0.033361</td>\n",
              "      <td>0.610529</td>\n",
              "      <td>0.813472</td>\n",
              "      <td>0.575734</td>\n",
              "      <td>2.492388</td>\n",
              "      <td>1.335686</td>\n",
              "      <td>1.403271</td>\n",
              "      <td>0.083288</td>\n",
              "      <td>-0.131305</td>\n",
              "      <td>0.585420</td>\n",
              "    </tr>\n",
              "    <tr>\n",
              "      <th>std</th>\n",
              "      <td>520.690671</td>\n",
              "      <td>497.627410</td>\n",
              "      <td>1.774578e+06</td>\n",
              "      <td>1.774590e+06</td>\n",
              "      <td>5168.459560</td>\n",
              "      <td>301.209187</td>\n",
              "      <td>426.482879</td>\n",
              "      <td>5.122936e+05</td>\n",
              "      <td>32.134276</td>\n",
              "      <td>18.690992</td>\n",
              "      <td>...</td>\n",
              "      <td>0.058961</td>\n",
              "      <td>0.243277</td>\n",
              "      <td>0.234274</td>\n",
              "      <td>0.482352</td>\n",
              "      <td>0.788930</td>\n",
              "      <td>0.481612</td>\n",
              "      <td>0.454345</td>\n",
              "      <td>0.500868</td>\n",
              "      <td>0.148767</td>\n",
              "      <td>0.339452</td>\n",
              "    </tr>\n",
              "    <tr>\n",
              "      <th>min</th>\n",
              "      <td>0.000000</td>\n",
              "      <td>4.000000</td>\n",
              "      <td>6.712000e+03</td>\n",
              "      <td>6.724000e+03</td>\n",
              "      <td>2.000000</td>\n",
              "      <td>2.000000</td>\n",
              "      <td>1.000000</td>\n",
              "      <td>2.500000e+02</td>\n",
              "      <td>0.000000</td>\n",
              "      <td>37.000000</td>\n",
              "      <td>...</td>\n",
              "      <td>0.001500</td>\n",
              "      <td>0.014400</td>\n",
              "      <td>0.048400</td>\n",
              "      <td>0.000000</td>\n",
              "      <td>0.301000</td>\n",
              "      <td>0.301000</td>\n",
              "      <td>0.000000</td>\n",
              "      <td>-0.991000</td>\n",
              "      <td>-0.998900</td>\n",
              "      <td>0.119000</td>\n",
              "    </tr>\n",
              "    <tr>\n",
              "      <th>25%</th>\n",
              "      <td>51.000000</td>\n",
              "      <td>192.000000</td>\n",
              "      <td>4.712530e+05</td>\n",
              "      <td>4.712810e+05</td>\n",
              "      <td>84.000000</td>\n",
              "      <td>15.000000</td>\n",
              "      <td>13.000000</td>\n",
              "      <td>9.522000e+03</td>\n",
              "      <td>63.000000</td>\n",
              "      <td>124.000000</td>\n",
              "      <td>...</td>\n",
              "      <td>0.006600</td>\n",
              "      <td>0.411800</td>\n",
              "      <td>0.596800</td>\n",
              "      <td>0.000000</td>\n",
              "      <td>1.924300</td>\n",
              "      <td>1.000000</td>\n",
              "      <td>1.079200</td>\n",
              "      <td>-0.333300</td>\n",
              "      <td>-0.195000</td>\n",
              "      <td>0.248200</td>\n",
              "    </tr>\n",
              "    <tr>\n",
              "      <th>50%</th>\n",
              "      <td>435.000000</td>\n",
              "      <td>467.000000</td>\n",
              "      <td>1.204128e+06</td>\n",
              "      <td>1.204136e+06</td>\n",
              "      <td>174.000000</td>\n",
              "      <td>26.000000</td>\n",
              "      <td>25.000000</td>\n",
              "      <td>1.920200e+04</td>\n",
              "      <td>90.000000</td>\n",
              "      <td>127.000000</td>\n",
              "      <td>...</td>\n",
              "      <td>0.010100</td>\n",
              "      <td>0.636400</td>\n",
              "      <td>0.947400</td>\n",
              "      <td>1.000000</td>\n",
              "      <td>2.240600</td>\n",
              "      <td>1.176100</td>\n",
              "      <td>1.322200</td>\n",
              "      <td>0.095200</td>\n",
              "      <td>-0.133000</td>\n",
              "      <td>0.506300</td>\n",
              "    </tr>\n",
              "    <tr>\n",
              "      <th>75%</th>\n",
              "      <td>1053.000000</td>\n",
              "      <td>1072.000000</td>\n",
              "      <td>2.183073e+06</td>\n",
              "      <td>2.183084e+06</td>\n",
              "      <td>822.000000</td>\n",
              "      <td>84.000000</td>\n",
              "      <td>83.000000</td>\n",
              "      <td>8.301100e+04</td>\n",
              "      <td>106.000000</td>\n",
              "      <td>140.000000</td>\n",
              "      <td>...</td>\n",
              "      <td>0.023500</td>\n",
              "      <td>0.800000</td>\n",
              "      <td>1.000000</td>\n",
              "      <td>1.000000</td>\n",
              "      <td>2.914900</td>\n",
              "      <td>1.518500</td>\n",
              "      <td>1.732400</td>\n",
              "      <td>0.511600</td>\n",
              "      <td>-0.066600</td>\n",
              "      <td>0.999800</td>\n",
              "    </tr>\n",
              "    <tr>\n",
              "      <th>max</th>\n",
              "      <td>1705.000000</td>\n",
              "      <td>1713.000000</td>\n",
              "      <td>1.298766e+07</td>\n",
              "      <td>1.298769e+07</td>\n",
              "      <td>152655.000000</td>\n",
              "      <td>10449.000000</td>\n",
              "      <td>18152.000000</td>\n",
              "      <td>1.159141e+07</td>\n",
              "      <td>203.000000</td>\n",
              "      <td>253.000000</td>\n",
              "      <td>...</td>\n",
              "      <td>0.875900</td>\n",
              "      <td>1.000000</td>\n",
              "      <td>1.000000</td>\n",
              "      <td>1.000000</td>\n",
              "      <td>5.183700</td>\n",
              "      <td>3.074100</td>\n",
              "      <td>4.258700</td>\n",
              "      <td>0.991700</td>\n",
              "      <td>0.642100</td>\n",
              "      <td>1.000000</td>\n",
              "    </tr>\n",
              "  </tbody>\n",
              "</table>\n",
              "<p>8 rows × 27 columns</p>\n",
              "</div>\n",
              "      <button class=\"colab-df-convert\" onclick=\"convertToInteractive('df-93de6398-9b42-4531-8156-917dadbd3378')\"\n",
              "              title=\"Convert this dataframe to an interactive table.\"\n",
              "              style=\"display:none;\">\n",
              "        \n",
              "  <svg xmlns=\"http://www.w3.org/2000/svg\" height=\"24px\"viewBox=\"0 0 24 24\"\n",
              "       width=\"24px\">\n",
              "    <path d=\"M0 0h24v24H0V0z\" fill=\"none\"/>\n",
              "    <path d=\"M18.56 5.44l.94 2.06.94-2.06 2.06-.94-2.06-.94-.94-2.06-.94 2.06-2.06.94zm-11 1L8.5 8.5l.94-2.06 2.06-.94-2.06-.94L8.5 2.5l-.94 2.06-2.06.94zm10 10l.94 2.06.94-2.06 2.06-.94-2.06-.94-.94-2.06-.94 2.06-2.06.94z\"/><path d=\"M17.41 7.96l-1.37-1.37c-.4-.4-.92-.59-1.43-.59-.52 0-1.04.2-1.43.59L10.3 9.45l-7.72 7.72c-.78.78-.78 2.05 0 2.83L4 21.41c.39.39.9.59 1.41.59.51 0 1.02-.2 1.41-.59l7.78-7.78 2.81-2.81c.8-.78.8-2.07 0-2.86zM5.41 20L4 18.59l7.72-7.72 1.47 1.35L5.41 20z\"/>\n",
              "  </svg>\n",
              "      </button>\n",
              "      \n",
              "  <style>\n",
              "    .colab-df-container {\n",
              "      display:flex;\n",
              "      flex-wrap:wrap;\n",
              "      gap: 12px;\n",
              "    }\n",
              "\n",
              "    .colab-df-convert {\n",
              "      background-color: #E8F0FE;\n",
              "      border: none;\n",
              "      border-radius: 50%;\n",
              "      cursor: pointer;\n",
              "      display: none;\n",
              "      fill: #1967D2;\n",
              "      height: 32px;\n",
              "      padding: 0 0 0 0;\n",
              "      width: 32px;\n",
              "    }\n",
              "\n",
              "    .colab-df-convert:hover {\n",
              "      background-color: #E2EBFA;\n",
              "      box-shadow: 0px 1px 2px rgba(60, 64, 67, 0.3), 0px 1px 3px 1px rgba(60, 64, 67, 0.15);\n",
              "      fill: #174EA6;\n",
              "    }\n",
              "\n",
              "    [theme=dark] .colab-df-convert {\n",
              "      background-color: #3B4455;\n",
              "      fill: #D2E3FC;\n",
              "    }\n",
              "\n",
              "    [theme=dark] .colab-df-convert:hover {\n",
              "      background-color: #434B5C;\n",
              "      box-shadow: 0px 1px 3px 1px rgba(0, 0, 0, 0.15);\n",
              "      filter: drop-shadow(0px 1px 2px rgba(0, 0, 0, 0.3));\n",
              "      fill: #FFFFFF;\n",
              "    }\n",
              "  </style>\n",
              "\n",
              "      <script>\n",
              "        const buttonEl =\n",
              "          document.querySelector('#df-93de6398-9b42-4531-8156-917dadbd3378 button.colab-df-convert');\n",
              "        buttonEl.style.display =\n",
              "          google.colab.kernel.accessAllowed ? 'block' : 'none';\n",
              "\n",
              "        async function convertToInteractive(key) {\n",
              "          const element = document.querySelector('#df-93de6398-9b42-4531-8156-917dadbd3378');\n",
              "          const dataTable =\n",
              "            await google.colab.kernel.invokeFunction('convertToInteractive',\n",
              "                                                     [key], {});\n",
              "          if (!dataTable) return;\n",
              "\n",
              "          const docLinkHtml = 'Like what you see? Visit the ' +\n",
              "            '<a target=\"_blank\" href=https://colab.research.google.com/notebooks/data_table.ipynb>data table notebook</a>'\n",
              "            + ' to learn more about interactive tables.';\n",
              "          element.innerHTML = '';\n",
              "          dataTable['output_type'] = 'display_data';\n",
              "          await google.colab.output.renderOutput(dataTable, element);\n",
              "          const docLink = document.createElement('div');\n",
              "          docLink.innerHTML = docLinkHtml;\n",
              "          element.appendChild(docLink);\n",
              "        }\n",
              "      </script>\n",
              "    </div>\n",
              "  </div>\n",
              "  "
            ],
            "text/plain": [
              "         X_Minimum    X_Maximum     Y_Minimum     Y_Maximum   Pixels_Areas  \\\n",
              "count  1941.000000  1941.000000  1.941000e+03  1.941000e+03    1941.000000   \n",
              "mean    571.136012   617.964451  1.650685e+06  1.650739e+06    1893.878413   \n",
              "std     520.690671   497.627410  1.774578e+06  1.774590e+06    5168.459560   \n",
              "min       0.000000     4.000000  6.712000e+03  6.724000e+03       2.000000   \n",
              "25%      51.000000   192.000000  4.712530e+05  4.712810e+05      84.000000   \n",
              "50%     435.000000   467.000000  1.204128e+06  1.204136e+06     174.000000   \n",
              "75%    1053.000000  1072.000000  2.183073e+06  2.183084e+06     822.000000   \n",
              "max    1705.000000  1713.000000  1.298766e+07  1.298769e+07  152655.000000   \n",
              "\n",
              "        X_Perimeter   Y_Perimeter  Sum_of_Luminosity  Minimum_of_Luminosity  \\\n",
              "count   1941.000000   1941.000000       1.941000e+03            1941.000000   \n",
              "mean     111.855229     82.965997       2.063121e+05              84.548686   \n",
              "std      301.209187    426.482879       5.122936e+05              32.134276   \n",
              "min        2.000000      1.000000       2.500000e+02               0.000000   \n",
              "25%       15.000000     13.000000       9.522000e+03              63.000000   \n",
              "50%       26.000000     25.000000       1.920200e+04              90.000000   \n",
              "75%       84.000000     83.000000       8.301100e+04             106.000000   \n",
              "max    10449.000000  18152.000000       1.159141e+07             203.000000   \n",
              "\n",
              "       Maximum_of_Luminosity  ...  Outside_X_Index  Edges_X_Index  \\\n",
              "count            1941.000000  ...      1941.000000    1941.000000   \n",
              "mean              130.193715  ...         0.033361       0.610529   \n",
              "std                18.690992  ...         0.058961       0.243277   \n",
              "min                37.000000  ...         0.001500       0.014400   \n",
              "25%               124.000000  ...         0.006600       0.411800   \n",
              "50%               127.000000  ...         0.010100       0.636400   \n",
              "75%               140.000000  ...         0.023500       0.800000   \n",
              "max               253.000000  ...         0.875900       1.000000   \n",
              "\n",
              "       Edges_Y_Index  Outside_Global_Index   LogOfAreas  Log_X_Index  \\\n",
              "count    1941.000000           1941.000000  1941.000000  1941.000000   \n",
              "mean        0.813472              0.575734     2.492388     1.335686   \n",
              "std         0.234274              0.482352     0.788930     0.481612   \n",
              "min         0.048400              0.000000     0.301000     0.301000   \n",
              "25%         0.596800              0.000000     1.924300     1.000000   \n",
              "50%         0.947400              1.000000     2.240600     1.176100   \n",
              "75%         1.000000              1.000000     2.914900     1.518500   \n",
              "max         1.000000              1.000000     5.183700     3.074100   \n",
              "\n",
              "       Log_Y_Index  Orientation_Index  Luminosity_Index  SigmoidOfAreas  \n",
              "count  1941.000000        1941.000000       1941.000000     1941.000000  \n",
              "mean      1.403271           0.083288         -0.131305        0.585420  \n",
              "std       0.454345           0.500868          0.148767        0.339452  \n",
              "min       0.000000          -0.991000         -0.998900        0.119000  \n",
              "25%       1.079200          -0.333300         -0.195000        0.248200  \n",
              "50%       1.322200           0.095200         -0.133000        0.506300  \n",
              "75%       1.732400           0.511600         -0.066600        0.999800  \n",
              "max       4.258700           0.991700          0.642100        1.000000  \n",
              "\n",
              "[8 rows x 27 columns]"
            ]
          },
          "execution_count": 6,
          "metadata": {},
          "output_type": "execute_result"
        }
      ],
      "source": [
        "# 데이터집합의 통계적 특성 조회\n",
        "data.describe()"
      ]
    },
    {
      "cell_type": "code",
      "execution_count": 7,
      "metadata": {
        "colab": {
          "base_uri": "https://localhost:8080/"
        },
        "id": "0j7yZNrMkPlv",
        "outputId": "bd2df0da-eb12-4024-e26a-5eebb435f1b4"
      },
      "outputs": [
        {
          "data": {
            "text/plain": [
              "array(['Pastry', 'Z_Scratch', 'K_Scatch', 'Stains', 'Dirtiness', 'Bumps',\n",
              "       'Other_Faults'], dtype=object)"
            ]
          },
          "execution_count": 7,
          "metadata": {},
          "output_type": "execute_result"
        }
      ],
      "source": [
        "# 목표 열인 Fault_Types의 고유값 확인\n",
        "data['Fault_Types'].unique()"
      ]
    },
    {
      "cell_type": "code",
      "execution_count": 8,
      "metadata": {
        "colab": {
          "base_uri": "https://localhost:8080/",
          "height": 375
        },
        "id": "6Wnx0lCsQpJW",
        "outputId": "af8c2278-d28d-40cf-b7e2-c1ffe35495a6"
      },
      "outputs": [
        {
          "data": {
            "text/plain": [
              "<matplotlib.axes._subplots.AxesSubplot at 0x7efd2baea050>"
            ]
          },
          "execution_count": 8,
          "metadata": {},
          "output_type": "execute_result"
        },
        {
          "data": {
            "image/png": "[encoded data removed]",
            "text/plain": [
              "<Figure size 432x432 with 1 Axes>"
            ]
          },
          "metadata": {},
          "output_type": "display_data"
        }
      ],
      "source": [
        "# Fault_Types 열의 분포 확인\n",
        "plt.figure(figsize=(6, 6))\n",
        "data['Fault_Types'].value_counts().plot.pie(legend=True)"
      ]
    },
    {
      "cell_type": "code",
      "execution_count": 9,
      "metadata": {
        "colab": {
          "base_uri": "https://localhost:8080/",
          "height": 286
        },
        "id": "_AdAJTRDkPlv",
        "outputId": "b6252eee-7bfe-4d89-9e1b-4583469b4010"
      },
      "outputs": [
        {
          "data": {
            "text/plain": [
              "<matplotlib.axes._subplots.AxesSubplot at 0x7efd2b9a6cd0>"
            ]
          },
          "execution_count": 9,
          "metadata": {},
          "output_type": "execute_result"
        },
        {
          "data": {
            "image/png": "[encoded data removed]",
            "text/plain": [
              "<Figure size 432x288 with 1 Axes>"
            ]
          },
          "metadata": {
            "needs_background": "light"
          },
          "output_type": "display_data"
        }
      ],
      "source": [
        "# Fault_Types 열의 분포 확인\n",
        "data['Fault_Types'].value_counts().plot.bar(rot=0)"
      ]
    },
    {
      "cell_type": "markdown",
      "metadata": {
        "id": "qgIIzCHdtEi7"
      },
      "source": [
        "## 3. 데이터 준비와 분할"
      ]
    },
    {
      "cell_type": "code",
      "execution_count": 10,
      "metadata": {
        "id": "mUOC9rGjkPl3"
      },
      "outputs": [],
      "source": [
        "# feature와 label로 구분\n",
        "X = data.drop(['Fault_Types'], axis=1)\n",
        "y = data.Fault_Types"
      ]
    },
    {
      "cell_type": "code",
      "execution_count": 11,
      "metadata": {
        "id": "LFHFqsiYkPl3"
      },
      "outputs": [],
      "source": [
        "# 데이터를 학습용과 시험용으로 분할\n",
        "X_train, X_test, y_train, y_test = train_test_split(\n",
        "    StandardScaler().fit_transform(X), y, test_size=0.2, random_state=1)"
      ]
    },
    {
      "cell_type": "markdown",
      "metadata": {
        "id": "AkOtValGkPl3"
      },
      "source": [
        "## 4. 분류기 모델 생성"
      ]
    },
    {
      "cell_type": "code",
      "execution_count": 12,
      "metadata": {
        "colab": {
          "base_uri": "https://localhost:8080/"
        },
        "id": "1cmtQ3eDkPl4",
        "outputId": "c6a863a3-40b9-4a6f-87bd-3e8801ccd545"
      },
      "outputs": [
        {
          "name": "stderr",
          "output_type": "stream",
          "text": [
            "[flaml.automl: 08-01 03:01:21] {2444} INFO - task = classification\n",
            "[flaml.automl: 08-01 03:01:21] {2446} INFO - Data split method: stratified\n",
            "[flaml.automl: 08-01 03:01:21] {2449} INFO - Evaluation method: holdout\n",
            "[flaml.automl: 08-01 03:01:21] {2568} INFO - Minimizing error metric: log_loss\n",
            "[flaml.automl: 08-01 03:01:21] {2617} WARNING - No search budget is provided via time_budget or max_iter. Training only one model per estimator. To tune hyperparameters for each estimator, please provide budget either via time_budget or max_iter.\n",
            "[flaml.automl: 08-01 03:01:21] {160} WARNING - Starting points outside of the search space are removed. Remaining starting points: []\n",
            "[flaml.automl: 08-01 03:01:21] {160} WARNING - Starting points outside of the search space are removed. Remaining starting points: []\n",
            "[flaml.automl: 08-01 03:01:21] {2708} INFO - List of ML learners in AutoML Run: ['extra_tree', 'lgbm', 'rf', 'catboost', 'xgboost', 'xgb_limitdepth', 'lrl1']\n",
            "[flaml.automl: 08-01 03:01:21] {3010} INFO - iteration 0, current learner extra_tree\n",
            "[flaml.automl: 08-01 03:01:21] {3144} INFO - Estimated sufficient time budget=3283s. Estimated necessary time budget=42s.\n",
            "[flaml.automl: 08-01 03:01:21] {3196} INFO -  at 0.4s,\testimator extra_tree's best error=1.2472,\tbest estimator extra_tree's best error=1.2472\n",
            "[flaml.automl: 08-01 03:01:21] {3010} INFO - iteration 1, current learner lgbm\n",
            "[flaml.automl: 08-01 03:01:23] {3196} INFO -  at 2.0s,\testimator lgbm's best error=0.4966,\tbest estimator lgbm's best error=0.4966\n",
            "[flaml.automl: 08-01 03:01:23] {3010} INFO - iteration 2, current learner rf\n",
            "[flaml.automl: 08-01 03:01:23] {3196} INFO -  at 2.3s,\testimator rf's best error=1.1402,\tbest estimator lgbm's best error=0.4966\n",
            "[flaml.automl: 08-01 03:01:23] {3010} INFO - iteration 3, current learner catboost\n",
            "[flaml.automl: 08-01 03:01:40] {3196} INFO -  at 19.0s,\testimator catboost's best error=0.5857,\tbest estimator lgbm's best error=0.4966\n",
            "[flaml.automl: 08-01 03:01:40] {3010} INFO - iteration 4, current learner xgboost\n",
            "[flaml.automl: 08-01 03:01:58] {3196} INFO -  at 36.6s,\testimator xgboost's best error=0.5341,\tbest estimator lgbm's best error=0.4966\n",
            "[flaml.automl: 08-01 03:01:58] {3010} INFO - iteration 5, current learner xgb_limitdepth\n",
            "[flaml.automl: 08-01 03:01:59] {3196} INFO -  at 38.4s,\testimator xgb_limitdepth's best error=0.5422,\tbest estimator lgbm's best error=0.4966\n",
            "[flaml.automl: 08-01 03:01:59] {3010} INFO - iteration 6, current learner lrl1\n",
            "/usr/local/lib/python3.7/dist-packages/sklearn/linear_model/_sag.py:354: ConvergenceWarning: The max_iter was reached which means the coef_ did not converge\n",
            "  ConvergenceWarning,\n",
            "[flaml.automl: 08-01 03:02:00] {3196} INFO -  at 38.7s,\testimator lrl1's best error=0.9715,\tbest estimator lgbm's best error=0.4966\n",
            "[flaml.automl: 08-01 03:02:01] {3456} INFO - retrain lgbm for 1.3s\n",
            "[flaml.automl: 08-01 03:02:01] {3461} INFO - retrained model: LGBMClassifier(colsample_bytree=0.3955693254372702,\n",
            "               learning_rate=0.019316895546068795, max_bin=63,\n",
            "               min_child_samples=53, n_estimators=320, num_leaves=24,\n",
            "               reg_alpha=0.0013785083170001627, reg_lambda=0.04644365636517757,\n",
            "               verbose=-1)\n",
            "[flaml.automl: 08-01 03:02:01] {2739} INFO - fit succeeded\n",
            "[flaml.automl: 08-01 03:02:01] {2741} INFO - Time taken to find the best model: 1.985931158065796\n"
          ]
        }
      ],
      "source": [
        "# AutoML 도구인 FLAML을 사용하여 최적 모델 자동 판별\n",
        "aml = flaml.AutoML()\n",
        "aml.fit(X_train, y_train, task=\"classification\")"
      ]
    },
    {
      "cell_type": "markdown",
      "metadata": {
        "id": "FW0DA_VikPl4"
      },
      "source": [
        "## 5. 평가"
      ]
    },
    {
      "cell_type": "code",
      "execution_count": 13,
      "metadata": {
        "colab": {
          "base_uri": "https://localhost:8080/"
        },
        "id": "w5x0qDa3kPl4",
        "outputId": "34383c7c-d178-4629-fa79-9809d68dc485"
      },
      "outputs": [
        {
          "data": {
            "text/plain": [
              "array(['Bumps', 'K_Scatch', 'Bumps', 'Other_Faults', 'Other_Faults',\n",
              "       'Bumps', 'Bumps', 'Z_Scratch', 'Other_Faults', 'Other_Faults',\n",
              "       'Pastry', 'Pastry', 'Other_Faults', 'Other_Faults', 'K_Scatch',\n",
              "       'K_Scatch', 'Z_Scratch', 'Bumps', 'K_Scatch', 'Other_Faults'],\n",
              "      dtype=object)"
            ]
          },
          "execution_count": 13,
          "metadata": {},
          "output_type": "execute_result"
        }
      ],
      "source": [
        "y_pred = aml.predict(X_test)\n",
        "y_pred[:20]"
      ]
    },
    {
      "cell_type": "code",
      "execution_count": 14,
      "metadata": {
        "colab": {
          "base_uri": "https://localhost:8080/"
        },
        "id": "lZ-RQ6XfkPl5",
        "outputId": "435e031e-2959-4000-dce8-b879cfdb4200"
      },
      "outputs": [
        {
          "name": "stdout",
          "output_type": "stream",
          "text": [
            "              precision    recall  f1-score   support\n",
            "\n",
            "       Bumps       0.63      0.62      0.62        79\n",
            "   Dirtiness       0.90      0.90      0.90        10\n",
            "    K_Scatch       0.96      0.94      0.95        80\n",
            "Other_Faults       0.72      0.75      0.73       138\n",
            "      Pastry       0.76      0.66      0.70        29\n",
            "      Stains       1.00      1.00      1.00        13\n",
            "   Z_Scratch       0.93      0.93      0.93        40\n",
            "\n",
            "    accuracy                           0.79       389\n",
            "   macro avg       0.84      0.83      0.83       389\n",
            "weighted avg       0.79      0.79      0.79       389\n",
            "\n"
          ]
        }
      ],
      "source": [
        "print(classification_report(y_test, y_pred))"
      ]
    },
    {
      "cell_type": "code",
      "execution_count": 15,
      "metadata": {
        "colab": {
          "base_uri": "https://localhost:8080/"
        },
        "id": "Ix-O5N0G52_D",
        "outputId": "300c3226-7cf1-4e15-ead7-071de31acf79"
      },
      "outputs": [
        {
          "data": {
            "text/plain": [
              "('lgbm',\n",
              " {'colsample_bytree': 0.3955693254372702,\n",
              "  'learning_rate': 0.019316895546068795,\n",
              "  'log_max_bin': 6,\n",
              "  'min_child_samples': 53,\n",
              "  'n_estimators': 320,\n",
              "  'num_leaves': 24,\n",
              "  'reg_alpha': 0.0013785083170001627,\n",
              "  'reg_lambda': 0.04644365636517757})"
            ]
          },
          "execution_count": 15,
          "metadata": {},
          "output_type": "execute_result"
        }
      ],
      "source": [
        "# 판별된 최적 알고리듬과 하이퍼매개변수\n",
        "aml.best_estimator, aml.best_config"
      ]
    },
    {
      "cell_type": "markdown",
      "metadata": {
        "id": "zyU5uGyhkPl5"
      },
      "source": [
        "## 6. 모델 설명 (Explainable AI, XAI)"
      ]
    },
    {
      "cell_type": "code",
      "execution_count": 16,
      "metadata": {
        "colab": {
          "base_uri": "https://localhost:8080/",
          "height": 610
        },
        "id": "z1wdW2frB0PL",
        "outputId": "53831ecb-8162-4fa6-81d4-cd88d43651bc"
      },
      "outputs": [
        {
          "data": {
            "text/plain": [
              "<BarContainer object of 27 artists>"
            ]
          },
          "execution_count": 16,
          "metadata": {},
          "output_type": "execute_result"
        },
        {
          "data": {
            "image/png": "[encoded data removed]",
            "text/plain": [
              "<Figure size 864x720 with 1 Axes>"
            ]
          },
          "metadata": {
            "needs_background": "light"
          },
          "output_type": "display_data"
        }
      ],
      "source": [
        "# 피처 중요도\n",
        "plt.figure(figsize=(12, 10))\n",
        "plt.barh(X.columns, aml.model.estimator.feature_importances_)"
      ]
    },
    {
      "cell_type": "markdown",
      "metadata": {
        "id": "JutdeKcQkPl6"
      },
      "source": [
        "## 결론\n",
        "\n",
        "이 실험에서는 다중 분류 문제의 사례인 강판 결함 판별에 인공 지능을 사용하는 방법의 예를 보았습니다."
      ]
    }
  ],
  "metadata": {
    "colab": {
      "collapsed_sections": [],
      "name": "Module_8_(Quality_Assurance_System).ipynb",
      "provenance": []
    },
    "kernelspec": {
      "display_name": "Python 3.8.5 ('base')",
      "language": "python",
      "name": "python3"
    },
    "language_info": {
      "codemirror_mode": {
        "name": "ipython",
        "version": 3
      },
      "file_extension": ".py",
      "mimetype": "text/x-python",
      "name": "python",
      "nbconvert_exporter": "python",
      "pygments_lexer": "ipython3",
      "version": "3.8.5"
    },
    "toc": {
      "base_numbering": 1,
      "nav_menu": {},
      "number_sections": true,
      "sideBar": true,
      "skip_h1_title": false,
      "title_cell": "Table of Contents",
      "title_sidebar": "Contents",
      "toc_cell": false,
      "toc_position": {},
      "toc_section_display": true,
      "toc_window_display": false
    },
    "vscode": {
      "interpreter": {
        "hash": "925563f656975f3c1539e571bc5438640405dc9afd9ec87daa86319dfe46586d"
      }
    }
  },
  "nbformat": 4,
  "nbformat_minor": 0
}
