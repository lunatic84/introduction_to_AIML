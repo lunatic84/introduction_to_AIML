{
  "cells": [
    {
      "cell_type": "markdown",
      "metadata": {
        "id": "PK3W0tk8kPlc"
      },
      "source": [
        "# (분류 1) 보험사기 탐지\n",
        "\n",
        "## 문제\n",
        "인공지능은 프로세스를 자동화하고, 비즈니스에 대한 통찰력을 모으고, 프로세스 속도를 높이기 위해 다양한 산업에서 사용되고 있습니다. 인공지능이 산업에 어떤 영향을 미치는지 실제 시나리오에서 인공지능의 사용을 연구하기 위해 보험사기 탐지 문제를 예로 들어 설명하겠습니다.\n",
        "\n",
        "보험사기는 매우 크고 중요한 문제입니다. 다양한 사기가 계속 발생하고 있으며, 일부 수법은 일반화되어 있습니다. 따라서 미리 예측하면 많은 피해를 막을 수 있으며, 비용을 절약할 수 있습니다. 이러한 문제에 대하여 AI는 우리를 도울 수 있습니다.\n",
        "\n",
        "## 데이터\n",
        "이 실험에서는 [Kaggle](https://www.kaggle.com/buntyshah/auto-insurance-claims-data)에서 얻은 자동차 보험 청구 데이터로 실습할 것입니다. Kaggle은 데이터 전문가들이 모여 지식을 공유하고 서로 경쟁하여 보상을 받을 수 있는 데이터 공유 플랫폼입니다. 정리된 데이터가 Insurance.csv에 포함되어 있습니다."
      ]
    },
    {
      "cell_type": "markdown",
      "metadata": {
        "id": "1cIcpLBDcjS1"
      },
      "source": [
        "## 0. 머신러닝 패키지 준비"
      ]
    },
    {
      "cell_type": "markdown",
      "metadata": {
        "id": "LjjZkpIlcvV0"
      },
      "source": [
        "### 0.1 필요한 패키지 설치"
      ]
    },
    {
      "cell_type": "code",
      "execution_count": 1,
      "metadata": {
        "id": "dlNOXUYLz80z"
      },
      "outputs": [],
      "source": [
        "pip install flaml[notebook] --quiet"
      ]
    },
    {
      "cell_type": "markdown",
      "metadata": {
        "id": "MUOWruYBc5K0"
      },
      "source": [
        "### 0.2 라이브러리 패키지 불러오기\n",
        "이 단계는 필요에 따라 적절한 시점까지 미룰 수 있음"
      ]
    },
    {
      "cell_type": "code",
      "execution_count": 2,
      "metadata": {
        "id": "8_V-MOV5kPlo"
      },
      "outputs": [],
      "source": [
        "import numpy as np \n",
        "import pandas as pd\n",
        "\n",
        "from sklearn.preprocessing import StandardScaler\n",
        "from sklearn.model_selection import train_test_split\n",
        "from sklearn.metrics import classification_report\n",
        "\n",
        "import flaml"
      ]
    },
    {
      "cell_type": "markdown",
      "metadata": {
        "id": "fSNLtc6a0aOS"
      },
      "source": [
        "## 1. 데이터집합 로드\n",
        "Pandas는 데이터 과학을 위한 인기 있는 Python 라이브러리입니다. 강력하고 유연한 데이터 구조를 제공하여 데이터 조작 및 분석을 더 쉽게 만듭니다.Pandas의 read_csv() 함수를 사용하여 CSV(Comma-Separated Values) 형식의 파일을 손쉽게 로드할 수 있습니다."
      ]
    },
    {
      "cell_type": "code",
      "execution_count": 3,
      "metadata": {
        "colab": {
          "base_uri": "https://localhost:8080/",
          "height": 317
        },
        "id": "daLalCzDkPlp",
        "outputId": "28afb901-bebf-49f4-9bcc-69bf465a6beb"
      },
      "outputs": [
        {
          "data": {
            "text/html": [
              "\n",
              "  <div id=\"df-fcb255b6-0fa3-4564-981f-1e0e69e93ca6\">\n",
              "    <div class=\"colab-df-container\">\n",
              "      <div>\n",
              "<style scoped>\n",
              "    .dataframe tbody tr th:only-of-type {\n",
              "        vertical-align: middle;\n",
              "    }\n",
              "\n",
              "    .dataframe tbody tr th {\n",
              "        vertical-align: top;\n",
              "    }\n",
              "\n",
              "    .dataframe thead th {\n",
              "        text-align: right;\n",
              "    }\n",
              "</style>\n",
              "<table border=\"1\" class=\"dataframe\">\n",
              "  <thead>\n",
              "    <tr style=\"text-align: right;\">\n",
              "      <th></th>\n",
              "      <th>capital-gains</th>\n",
              "      <th>capital-loss</th>\n",
              "      <th>incident_hour_of_the_day</th>\n",
              "      <th>number_of_vehicles_involved</th>\n",
              "      <th>witnesses</th>\n",
              "      <th>total_claim_amount</th>\n",
              "      <th>fraud_reported</th>\n",
              "      <th>insured_sex_FEMALE</th>\n",
              "      <th>insured_sex_MALE</th>\n",
              "      <th>insured_occupation_adm-clerical</th>\n",
              "      <th>...</th>\n",
              "      <th>months_as_customer_groups_301-350</th>\n",
              "      <th>months_as_customer_groups_351-400</th>\n",
              "      <th>months_as_customer_groups_401-450</th>\n",
              "      <th>months_as_customer_groups_451-500</th>\n",
              "      <th>months_as_customer_groups_51-100</th>\n",
              "      <th>policy_annual_premium_groups_high</th>\n",
              "      <th>policy_annual_premium_groups_low</th>\n",
              "      <th>policy_annual_premium_groups_medium</th>\n",
              "      <th>policy_annual_premium_groups_very high</th>\n",
              "      <th>policy_annual_premium_groups_very low</th>\n",
              "    </tr>\n",
              "  </thead>\n",
              "  <tbody>\n",
              "    <tr>\n",
              "      <th>0</th>\n",
              "      <td>53300</td>\n",
              "      <td>0</td>\n",
              "      <td>5</td>\n",
              "      <td>1</td>\n",
              "      <td>2</td>\n",
              "      <td>71610</td>\n",
              "      <td>1</td>\n",
              "      <td>0</td>\n",
              "      <td>1</td>\n",
              "      <td>0</td>\n",
              "      <td>...</td>\n",
              "      <td>1</td>\n",
              "      <td>0</td>\n",
              "      <td>0</td>\n",
              "      <td>0</td>\n",
              "      <td>0</td>\n",
              "      <td>0</td>\n",
              "      <td>0</td>\n",
              "      <td>1</td>\n",
              "      <td>0</td>\n",
              "      <td>0</td>\n",
              "    </tr>\n",
              "    <tr>\n",
              "      <th>1</th>\n",
              "      <td>0</td>\n",
              "      <td>0</td>\n",
              "      <td>8</td>\n",
              "      <td>1</td>\n",
              "      <td>0</td>\n",
              "      <td>5070</td>\n",
              "      <td>1</td>\n",
              "      <td>0</td>\n",
              "      <td>1</td>\n",
              "      <td>0</td>\n",
              "      <td>...</td>\n",
              "      <td>0</td>\n",
              "      <td>0</td>\n",
              "      <td>0</td>\n",
              "      <td>0</td>\n",
              "      <td>0</td>\n",
              "      <td>0</td>\n",
              "      <td>0</td>\n",
              "      <td>1</td>\n",
              "      <td>0</td>\n",
              "      <td>0</td>\n",
              "    </tr>\n",
              "    <tr>\n",
              "      <th>2</th>\n",
              "      <td>35100</td>\n",
              "      <td>0</td>\n",
              "      <td>7</td>\n",
              "      <td>3</td>\n",
              "      <td>3</td>\n",
              "      <td>34650</td>\n",
              "      <td>0</td>\n",
              "      <td>1</td>\n",
              "      <td>0</td>\n",
              "      <td>0</td>\n",
              "      <td>...</td>\n",
              "      <td>0</td>\n",
              "      <td>0</td>\n",
              "      <td>0</td>\n",
              "      <td>0</td>\n",
              "      <td>0</td>\n",
              "      <td>0</td>\n",
              "      <td>0</td>\n",
              "      <td>1</td>\n",
              "      <td>0</td>\n",
              "      <td>0</td>\n",
              "    </tr>\n",
              "    <tr>\n",
              "      <th>3</th>\n",
              "      <td>48900</td>\n",
              "      <td>-62400</td>\n",
              "      <td>5</td>\n",
              "      <td>1</td>\n",
              "      <td>2</td>\n",
              "      <td>63400</td>\n",
              "      <td>1</td>\n",
              "      <td>1</td>\n",
              "      <td>0</td>\n",
              "      <td>0</td>\n",
              "      <td>...</td>\n",
              "      <td>0</td>\n",
              "      <td>0</td>\n",
              "      <td>0</td>\n",
              "      <td>0</td>\n",
              "      <td>0</td>\n",
              "      <td>0</td>\n",
              "      <td>0</td>\n",
              "      <td>1</td>\n",
              "      <td>0</td>\n",
              "      <td>0</td>\n",
              "    </tr>\n",
              "    <tr>\n",
              "      <th>4</th>\n",
              "      <td>66000</td>\n",
              "      <td>-46000</td>\n",
              "      <td>20</td>\n",
              "      <td>1</td>\n",
              "      <td>1</td>\n",
              "      <td>6500</td>\n",
              "      <td>0</td>\n",
              "      <td>0</td>\n",
              "      <td>1</td>\n",
              "      <td>0</td>\n",
              "      <td>...</td>\n",
              "      <td>0</td>\n",
              "      <td>0</td>\n",
              "      <td>0</td>\n",
              "      <td>0</td>\n",
              "      <td>0</td>\n",
              "      <td>1</td>\n",
              "      <td>0</td>\n",
              "      <td>0</td>\n",
              "      <td>0</td>\n",
              "      <td>0</td>\n",
              "    </tr>\n",
              "  </tbody>\n",
              "</table>\n",
              "<p>5 rows × 68 columns</p>\n",
              "</div>\n",
              "      <button class=\"colab-df-convert\" onclick=\"convertToInteractive('df-fcb255b6-0fa3-4564-981f-1e0e69e93ca6')\"\n",
              "              title=\"Convert this dataframe to an interactive table.\"\n",
              "              style=\"display:none;\">\n",
              "        \n",
              "  <svg xmlns=\"http://www.w3.org/2000/svg\" height=\"24px\"viewBox=\"0 0 24 24\"\n",
              "       width=\"24px\">\n",
              "    <path d=\"M0 0h24v24H0V0z\" fill=\"none\"/>\n",
              "    <path d=\"M18.56 5.44l.94 2.06.94-2.06 2.06-.94-2.06-.94-.94-2.06-.94 2.06-2.06.94zm-11 1L8.5 8.5l.94-2.06 2.06-.94-2.06-.94L8.5 2.5l-.94 2.06-2.06.94zm10 10l.94 2.06.94-2.06 2.06-.94-2.06-.94-.94-2.06-.94 2.06-2.06.94z\"/><path d=\"M17.41 7.96l-1.37-1.37c-.4-.4-.92-.59-1.43-.59-.52 0-1.04.2-1.43.59L10.3 9.45l-7.72 7.72c-.78.78-.78 2.05 0 2.83L4 21.41c.39.39.9.59 1.41.59.51 0 1.02-.2 1.41-.59l7.78-7.78 2.81-2.81c.8-.78.8-2.07 0-2.86zM5.41 20L4 18.59l7.72-7.72 1.47 1.35L5.41 20z\"/>\n",
              "  </svg>\n",
              "      </button>\n",
              "      \n",
              "  <style>\n",
              "    .colab-df-container {\n",
              "      display:flex;\n",
              "      flex-wrap:wrap;\n",
              "      gap: 12px;\n",
              "    }\n",
              "\n",
              "    .colab-df-convert {\n",
              "      background-color: #E8F0FE;\n",
              "      border: none;\n",
              "      border-radius: 50%;\n",
              "      cursor: pointer;\n",
              "      display: none;\n",
              "      fill: #1967D2;\n",
              "      height: 32px;\n",
              "      padding: 0 0 0 0;\n",
              "      width: 32px;\n",
              "    }\n",
              "\n",
              "    .colab-df-convert:hover {\n",
              "      background-color: #E2EBFA;\n",
              "      box-shadow: 0px 1px 2px rgba(60, 64, 67, 0.3), 0px 1px 3px 1px rgba(60, 64, 67, 0.15);\n",
              "      fill: #174EA6;\n",
              "    }\n",
              "\n",
              "    [theme=dark] .colab-df-convert {\n",
              "      background-color: #3B4455;\n",
              "      fill: #D2E3FC;\n",
              "    }\n",
              "\n",
              "    [theme=dark] .colab-df-convert:hover {\n",
              "      background-color: #434B5C;\n",
              "      box-shadow: 0px 1px 3px 1px rgba(0, 0, 0, 0.15);\n",
              "      filter: drop-shadow(0px 1px 2px rgba(0, 0, 0, 0.3));\n",
              "      fill: #FFFFFF;\n",
              "    }\n",
              "  </style>\n",
              "\n",
              "      <script>\n",
              "        const buttonEl =\n",
              "          document.querySelector('#df-fcb255b6-0fa3-4564-981f-1e0e69e93ca6 button.colab-df-convert');\n",
              "        buttonEl.style.display =\n",
              "          google.colab.kernel.accessAllowed ? 'block' : 'none';\n",
              "\n",
              "        async function convertToInteractive(key) {\n",
              "          const element = document.querySelector('#df-fcb255b6-0fa3-4564-981f-1e0e69e93ca6');\n",
              "          const dataTable =\n",
              "            await google.colab.kernel.invokeFunction('convertToInteractive',\n",
              "                                                     [key], {});\n",
              "          if (!dataTable) return;\n",
              "\n",
              "          const docLinkHtml = 'Like what you see? Visit the ' +\n",
              "            '<a target=\"_blank\" href=https://colab.research.google.com/notebooks/data_table.ipynb>data table notebook</a>'\n",
              "            + ' to learn more about interactive tables.';\n",
              "          element.innerHTML = '';\n",
              "          dataTable['output_type'] = 'display_data';\n",
              "          await google.colab.output.renderOutput(dataTable, element);\n",
              "          const docLink = document.createElement('div');\n",
              "          docLink.innerHTML = docLinkHtml;\n",
              "          element.appendChild(docLink);\n",
              "        }\n",
              "      </script>\n",
              "    </div>\n",
              "  </div>\n",
              "  "
            ],
            "text/plain": [
              "   capital-gains  capital-loss  incident_hour_of_the_day  \\\n",
              "0          53300             0                         5   \n",
              "1              0             0                         8   \n",
              "2          35100             0                         7   \n",
              "3          48900        -62400                         5   \n",
              "4          66000        -46000                        20   \n",
              "\n",
              "   number_of_vehicles_involved  witnesses  total_claim_amount  fraud_reported  \\\n",
              "0                            1          2               71610               1   \n",
              "1                            1          0                5070               1   \n",
              "2                            3          3               34650               0   \n",
              "3                            1          2               63400               1   \n",
              "4                            1          1                6500               0   \n",
              "\n",
              "   insured_sex_FEMALE  insured_sex_MALE  insured_occupation_adm-clerical  ...  \\\n",
              "0                   0                 1                                0  ...   \n",
              "1                   0                 1                                0  ...   \n",
              "2                   1                 0                                0  ...   \n",
              "3                   1                 0                                0  ...   \n",
              "4                   0                 1                                0  ...   \n",
              "\n",
              "   months_as_customer_groups_301-350  months_as_customer_groups_351-400  \\\n",
              "0                                  1                                  0   \n",
              "1                                  0                                  0   \n",
              "2                                  0                                  0   \n",
              "3                                  0                                  0   \n",
              "4                                  0                                  0   \n",
              "\n",
              "   months_as_customer_groups_401-450  months_as_customer_groups_451-500  \\\n",
              "0                                  0                                  0   \n",
              "1                                  0                                  0   \n",
              "2                                  0                                  0   \n",
              "3                                  0                                  0   \n",
              "4                                  0                                  0   \n",
              "\n",
              "   months_as_customer_groups_51-100  policy_annual_premium_groups_high  \\\n",
              "0                                 0                                  0   \n",
              "1                                 0                                  0   \n",
              "2                                 0                                  0   \n",
              "3                                 0                                  0   \n",
              "4                                 0                                  1   \n",
              "\n",
              "   policy_annual_premium_groups_low  policy_annual_premium_groups_medium  \\\n",
              "0                                 0                                    1   \n",
              "1                                 0                                    1   \n",
              "2                                 0                                    1   \n",
              "3                                 0                                    1   \n",
              "4                                 0                                    0   \n",
              "\n",
              "   policy_annual_premium_groups_very high  \\\n",
              "0                                       0   \n",
              "1                                       0   \n",
              "2                                       0   \n",
              "3                                       0   \n",
              "4                                       0   \n",
              "\n",
              "   policy_annual_premium_groups_very low  \n",
              "0                                      0  \n",
              "1                                      0  \n",
              "2                                      0  \n",
              "3                                      0  \n",
              "4                                      0  \n",
              "\n",
              "[5 rows x 68 columns]"
            ]
          },
          "execution_count": 3,
          "metadata": {},
          "output_type": "execute_result"
        }
      ],
      "source": [
        "data = pd.read_csv(r'[Dataset]_Module8_(Insurance).csv').drop(['Unnamed: 0'], axis=1)\n",
        "data.head()"
      ]
    },
    {
      "cell_type": "code",
      "execution_count": 4,
      "metadata": {
        "colab": {
          "base_uri": "https://localhost:8080/"
        },
        "id": "b_ghB1-e8yYC",
        "outputId": "7e351ea5-bf2a-4657-c949-1a9a4074044a"
      },
      "outputs": [
        {
          "data": {
            "text/plain": [
              "(1000, 68)"
            ]
          },
          "execution_count": 4,
          "metadata": {},
          "output_type": "execute_result"
        }
      ],
      "source": [
        "data.shape"
      ]
    },
    {
      "cell_type": "markdown",
      "metadata": {
        "id": "fywZdNTqoZqj"
      },
      "source": [
        "## 2. 데이터 탐색 (Exploratory Data Analysis, EDA)"
      ]
    },
    {
      "cell_type": "code",
      "execution_count": 5,
      "metadata": {
        "colab": {
          "base_uri": "https://localhost:8080/"
        },
        "id": "6jjicQq4kPls",
        "outputId": "358b92a9-f5a4-44bb-efad-c8852bd90f71"
      },
      "outputs": [
        {
          "data": {
            "text/plain": [
              "capital-gains                             0\n",
              "capital-loss                              0\n",
              "incident_hour_of_the_day                  0\n",
              "number_of_vehicles_involved               0\n",
              "witnesses                                 0\n",
              "                                         ..\n",
              "policy_annual_premium_groups_high         0\n",
              "policy_annual_premium_groups_low          0\n",
              "policy_annual_premium_groups_medium       0\n",
              "policy_annual_premium_groups_very high    0\n",
              "policy_annual_premium_groups_very low     0\n",
              "Length: 68, dtype: int64"
            ]
          },
          "execution_count": 5,
          "metadata": {},
          "output_type": "execute_result"
        }
      ],
      "source": [
        "# 다양한 feature에 대하여 null 값의 수를 확인\n",
        "data.isnull().sum()"
      ]
    },
    {
      "cell_type": "code",
      "execution_count": 6,
      "metadata": {
        "colab": {
          "base_uri": "https://localhost:8080/"
        },
        "id": "wk-gwSnpkPls",
        "outputId": "16cefbed-1619-40a9-ffbf-6b40ecf58559"
      },
      "outputs": [
        {
          "name": "stdout",
          "output_type": "stream",
          "text": [
            "<class 'pandas.core.frame.DataFrame'>\n",
            "RangeIndex: 1000 entries, 0 to 999\n",
            "Data columns (total 68 columns):\n",
            " #   Column                                  Non-Null Count  Dtype\n",
            "---  ------                                  --------------  -----\n",
            " 0   capital-gains                           1000 non-null   int64\n",
            " 1   capital-loss                            1000 non-null   int64\n",
            " 2   incident_hour_of_the_day                1000 non-null   int64\n",
            " 3   number_of_vehicles_involved             1000 non-null   int64\n",
            " 4   witnesses                               1000 non-null   int64\n",
            " 5   total_claim_amount                      1000 non-null   int64\n",
            " 6   fraud_reported                          1000 non-null   int64\n",
            " 7   insured_sex_FEMALE                      1000 non-null   int64\n",
            " 8   insured_sex_MALE                        1000 non-null   int64\n",
            " 9   insured_occupation_adm-clerical         1000 non-null   int64\n",
            " 10  insured_occupation_armed-forces         1000 non-null   int64\n",
            " 11  insured_occupation_craft-repair         1000 non-null   int64\n",
            " 12  insured_occupation_exec-managerial      1000 non-null   int64\n",
            " 13  insured_occupation_farming-fishing      1000 non-null   int64\n",
            " 14  insured_occupation_handlers-cleaners    1000 non-null   int64\n",
            " 15  insured_occupation_machine-op-inspct    1000 non-null   int64\n",
            " 16  insured_occupation_other-service        1000 non-null   int64\n",
            " 17  insured_occupation_priv-house-serv      1000 non-null   int64\n",
            " 18  insured_occupation_prof-specialty       1000 non-null   int64\n",
            " 19  insured_occupation_protective-serv      1000 non-null   int64\n",
            " 20  insured_occupation_sales                1000 non-null   int64\n",
            " 21  insured_occupation_tech-support         1000 non-null   int64\n",
            " 22  insured_occupation_transport-moving     1000 non-null   int64\n",
            " 23  insured_hobbies_chess                   1000 non-null   int64\n",
            " 24  insured_hobbies_cross-fit               1000 non-null   int64\n",
            " 25  insured_hobbies_other                   1000 non-null   int64\n",
            " 26  incident_type_Multi-vehicle Collision   1000 non-null   int64\n",
            " 27  incident_type_Parked Car                1000 non-null   int64\n",
            " 28  incident_type_Single Vehicle Collision  1000 non-null   int64\n",
            " 29  incident_type_Vehicle Theft             1000 non-null   int64\n",
            " 30  collision_type_?                        1000 non-null   int64\n",
            " 31  collision_type_Front Collision          1000 non-null   int64\n",
            " 32  collision_type_Rear Collision           1000 non-null   int64\n",
            " 33  collision_type_Side Collision           1000 non-null   int64\n",
            " 34  incident_severity_Major Damage          1000 non-null   int64\n",
            " 35  incident_severity_Minor Damage          1000 non-null   int64\n",
            " 36  incident_severity_Total Loss            1000 non-null   int64\n",
            " 37  incident_severity_Trivial Damage        1000 non-null   int64\n",
            " 38  authorities_contacted_Ambulance         1000 non-null   int64\n",
            " 39  authorities_contacted_Fire              1000 non-null   int64\n",
            " 40  authorities_contacted_None              1000 non-null   int64\n",
            " 41  authorities_contacted_Other             1000 non-null   int64\n",
            " 42  authorities_contacted_Police            1000 non-null   int64\n",
            " 43  age_group_15-20                         1000 non-null   int64\n",
            " 44  age_group_21-25                         1000 non-null   int64\n",
            " 45  age_group_26-30                         1000 non-null   int64\n",
            " 46  age_group_31-35                         1000 non-null   int64\n",
            " 47  age_group_36-40                         1000 non-null   int64\n",
            " 48  age_group_41-45                         1000 non-null   int64\n",
            " 49  age_group_46-50                         1000 non-null   int64\n",
            " 50  age_group_51-55                         1000 non-null   int64\n",
            " 51  age_group_56-60                         1000 non-null   int64\n",
            " 52  age_group_61-65                         1000 non-null   int64\n",
            " 53  months_as_customer_groups_0-50          1000 non-null   int64\n",
            " 54  months_as_customer_groups_101-150       1000 non-null   int64\n",
            " 55  months_as_customer_groups_151-200       1000 non-null   int64\n",
            " 56  months_as_customer_groups_201-250       1000 non-null   int64\n",
            " 57  months_as_customer_groups_251-300       1000 non-null   int64\n",
            " 58  months_as_customer_groups_301-350       1000 non-null   int64\n",
            " 59  months_as_customer_groups_351-400       1000 non-null   int64\n",
            " 60  months_as_customer_groups_401-450       1000 non-null   int64\n",
            " 61  months_as_customer_groups_451-500       1000 non-null   int64\n",
            " 62  months_as_customer_groups_51-100        1000 non-null   int64\n",
            " 63  policy_annual_premium_groups_high       1000 non-null   int64\n",
            " 64  policy_annual_premium_groups_low        1000 non-null   int64\n",
            " 65  policy_annual_premium_groups_medium     1000 non-null   int64\n",
            " 66  policy_annual_premium_groups_very high  1000 non-null   int64\n",
            " 67  policy_annual_premium_groups_very low   1000 non-null   int64\n",
            "dtypes: int64(68)\n",
            "memory usage: 531.4 KB\n"
          ]
        }
      ],
      "source": [
        "# 데이터집합에 대한 추가 정보 확인\n",
        "data.info()"
      ]
    },
    {
      "cell_type": "code",
      "execution_count": 7,
      "metadata": {
        "colab": {
          "base_uri": "https://localhost:8080/",
          "height": 411
        },
        "id": "e7vhsKnBkPlu",
        "outputId": "19fd07c3-81f9-4784-f9c9-24cc9ae3a7a8"
      },
      "outputs": [
        {
          "data": {
            "text/html": [
              "\n",
              "  <div id=\"df-a8fc5930-85a6-49ad-b6e7-339cf40f78d8\">\n",
              "    <div class=\"colab-df-container\">\n",
              "      <div>\n",
              "<style scoped>\n",
              "    .dataframe tbody tr th:only-of-type {\n",
              "        vertical-align: middle;\n",
              "    }\n",
              "\n",
              "    .dataframe tbody tr th {\n",
              "        vertical-align: top;\n",
              "    }\n",
              "\n",
              "    .dataframe thead th {\n",
              "        text-align: right;\n",
              "    }\n",
              "</style>\n",
              "<table border=\"1\" class=\"dataframe\">\n",
              "  <thead>\n",
              "    <tr style=\"text-align: right;\">\n",
              "      <th></th>\n",
              "      <th>capital-gains</th>\n",
              "      <th>capital-loss</th>\n",
              "      <th>incident_hour_of_the_day</th>\n",
              "      <th>number_of_vehicles_involved</th>\n",
              "      <th>witnesses</th>\n",
              "      <th>total_claim_amount</th>\n",
              "      <th>fraud_reported</th>\n",
              "      <th>insured_sex_FEMALE</th>\n",
              "      <th>insured_sex_MALE</th>\n",
              "      <th>insured_occupation_adm-clerical</th>\n",
              "      <th>...</th>\n",
              "      <th>months_as_customer_groups_301-350</th>\n",
              "      <th>months_as_customer_groups_351-400</th>\n",
              "      <th>months_as_customer_groups_401-450</th>\n",
              "      <th>months_as_customer_groups_451-500</th>\n",
              "      <th>months_as_customer_groups_51-100</th>\n",
              "      <th>policy_annual_premium_groups_high</th>\n",
              "      <th>policy_annual_premium_groups_low</th>\n",
              "      <th>policy_annual_premium_groups_medium</th>\n",
              "      <th>policy_annual_premium_groups_very high</th>\n",
              "      <th>policy_annual_premium_groups_very low</th>\n",
              "    </tr>\n",
              "  </thead>\n",
              "  <tbody>\n",
              "    <tr>\n",
              "      <th>count</th>\n",
              "      <td>1000.000000</td>\n",
              "      <td>1000.000000</td>\n",
              "      <td>1000.000000</td>\n",
              "      <td>1000.00000</td>\n",
              "      <td>1000.000000</td>\n",
              "      <td>1000.00000</td>\n",
              "      <td>1000.000000</td>\n",
              "      <td>1000.000000</td>\n",
              "      <td>1000.000000</td>\n",
              "      <td>1000.000000</td>\n",
              "      <td>...</td>\n",
              "      <td>1000.000000</td>\n",
              "      <td>1000.000000</td>\n",
              "      <td>1000.00000</td>\n",
              "      <td>1000.000000</td>\n",
              "      <td>1000.0000</td>\n",
              "      <td>1000.000000</td>\n",
              "      <td>1000.000000</td>\n",
              "      <td>1000.00000</td>\n",
              "      <td>1000.000000</td>\n",
              "      <td>1000.000000</td>\n",
              "    </tr>\n",
              "    <tr>\n",
              "      <th>mean</th>\n",
              "      <td>25126.100000</td>\n",
              "      <td>-26793.700000</td>\n",
              "      <td>11.644000</td>\n",
              "      <td>1.83900</td>\n",
              "      <td>1.487000</td>\n",
              "      <td>52761.94000</td>\n",
              "      <td>0.247000</td>\n",
              "      <td>0.537000</td>\n",
              "      <td>0.463000</td>\n",
              "      <td>0.065000</td>\n",
              "      <td>...</td>\n",
              "      <td>0.080000</td>\n",
              "      <td>0.043000</td>\n",
              "      <td>0.04200</td>\n",
              "      <td>0.047000</td>\n",
              "      <td>0.1020</td>\n",
              "      <td>0.153000</td>\n",
              "      <td>0.151000</td>\n",
              "      <td>0.69300</td>\n",
              "      <td>0.001000</td>\n",
              "      <td>0.002000</td>\n",
              "    </tr>\n",
              "    <tr>\n",
              "      <th>std</th>\n",
              "      <td>27872.187708</td>\n",
              "      <td>28104.096686</td>\n",
              "      <td>6.951373</td>\n",
              "      <td>1.01888</td>\n",
              "      <td>1.111335</td>\n",
              "      <td>26401.53319</td>\n",
              "      <td>0.431483</td>\n",
              "      <td>0.498879</td>\n",
              "      <td>0.498879</td>\n",
              "      <td>0.246649</td>\n",
              "      <td>...</td>\n",
              "      <td>0.271429</td>\n",
              "      <td>0.202959</td>\n",
              "      <td>0.20069</td>\n",
              "      <td>0.211745</td>\n",
              "      <td>0.3028</td>\n",
              "      <td>0.360168</td>\n",
              "      <td>0.358228</td>\n",
              "      <td>0.46148</td>\n",
              "      <td>0.031623</td>\n",
              "      <td>0.044699</td>\n",
              "    </tr>\n",
              "    <tr>\n",
              "      <th>min</th>\n",
              "      <td>0.000000</td>\n",
              "      <td>-111100.000000</td>\n",
              "      <td>0.000000</td>\n",
              "      <td>1.00000</td>\n",
              "      <td>0.000000</td>\n",
              "      <td>100.00000</td>\n",
              "      <td>0.000000</td>\n",
              "      <td>0.000000</td>\n",
              "      <td>0.000000</td>\n",
              "      <td>0.000000</td>\n",
              "      <td>...</td>\n",
              "      <td>0.000000</td>\n",
              "      <td>0.000000</td>\n",
              "      <td>0.00000</td>\n",
              "      <td>0.000000</td>\n",
              "      <td>0.0000</td>\n",
              "      <td>0.000000</td>\n",
              "      <td>0.000000</td>\n",
              "      <td>0.00000</td>\n",
              "      <td>0.000000</td>\n",
              "      <td>0.000000</td>\n",
              "    </tr>\n",
              "    <tr>\n",
              "      <th>25%</th>\n",
              "      <td>0.000000</td>\n",
              "      <td>-51500.000000</td>\n",
              "      <td>6.000000</td>\n",
              "      <td>1.00000</td>\n",
              "      <td>1.000000</td>\n",
              "      <td>41812.50000</td>\n",
              "      <td>0.000000</td>\n",
              "      <td>0.000000</td>\n",
              "      <td>0.000000</td>\n",
              "      <td>0.000000</td>\n",
              "      <td>...</td>\n",
              "      <td>0.000000</td>\n",
              "      <td>0.000000</td>\n",
              "      <td>0.00000</td>\n",
              "      <td>0.000000</td>\n",
              "      <td>0.0000</td>\n",
              "      <td>0.000000</td>\n",
              "      <td>0.000000</td>\n",
              "      <td>0.00000</td>\n",
              "      <td>0.000000</td>\n",
              "      <td>0.000000</td>\n",
              "    </tr>\n",
              "    <tr>\n",
              "      <th>50%</th>\n",
              "      <td>0.000000</td>\n",
              "      <td>-23250.000000</td>\n",
              "      <td>12.000000</td>\n",
              "      <td>1.00000</td>\n",
              "      <td>1.000000</td>\n",
              "      <td>58055.00000</td>\n",
              "      <td>0.000000</td>\n",
              "      <td>1.000000</td>\n",
              "      <td>0.000000</td>\n",
              "      <td>0.000000</td>\n",
              "      <td>...</td>\n",
              "      <td>0.000000</td>\n",
              "      <td>0.000000</td>\n",
              "      <td>0.00000</td>\n",
              "      <td>0.000000</td>\n",
              "      <td>0.0000</td>\n",
              "      <td>0.000000</td>\n",
              "      <td>0.000000</td>\n",
              "      <td>1.00000</td>\n",
              "      <td>0.000000</td>\n",
              "      <td>0.000000</td>\n",
              "    </tr>\n",
              "    <tr>\n",
              "      <th>75%</th>\n",
              "      <td>51025.000000</td>\n",
              "      <td>0.000000</td>\n",
              "      <td>17.000000</td>\n",
              "      <td>3.00000</td>\n",
              "      <td>2.000000</td>\n",
              "      <td>70592.50000</td>\n",
              "      <td>0.000000</td>\n",
              "      <td>1.000000</td>\n",
              "      <td>1.000000</td>\n",
              "      <td>0.000000</td>\n",
              "      <td>...</td>\n",
              "      <td>0.000000</td>\n",
              "      <td>0.000000</td>\n",
              "      <td>0.00000</td>\n",
              "      <td>0.000000</td>\n",
              "      <td>0.0000</td>\n",
              "      <td>0.000000</td>\n",
              "      <td>0.000000</td>\n",
              "      <td>1.00000</td>\n",
              "      <td>0.000000</td>\n",
              "      <td>0.000000</td>\n",
              "    </tr>\n",
              "    <tr>\n",
              "      <th>max</th>\n",
              "      <td>100500.000000</td>\n",
              "      <td>0.000000</td>\n",
              "      <td>23.000000</td>\n",
              "      <td>4.00000</td>\n",
              "      <td>3.000000</td>\n",
              "      <td>114920.00000</td>\n",
              "      <td>1.000000</td>\n",
              "      <td>1.000000</td>\n",
              "      <td>1.000000</td>\n",
              "      <td>1.000000</td>\n",
              "      <td>...</td>\n",
              "      <td>1.000000</td>\n",
              "      <td>1.000000</td>\n",
              "      <td>1.00000</td>\n",
              "      <td>1.000000</td>\n",
              "      <td>1.0000</td>\n",
              "      <td>1.000000</td>\n",
              "      <td>1.000000</td>\n",
              "      <td>1.00000</td>\n",
              "      <td>1.000000</td>\n",
              "      <td>1.000000</td>\n",
              "    </tr>\n",
              "  </tbody>\n",
              "</table>\n",
              "<p>8 rows × 68 columns</p>\n",
              "</div>\n",
              "      <button class=\"colab-df-convert\" onclick=\"convertToInteractive('df-a8fc5930-85a6-49ad-b6e7-339cf40f78d8')\"\n",
              "              title=\"Convert this dataframe to an interactive table.\"\n",
              "              style=\"display:none;\">\n",
              "        \n",
              "  <svg xmlns=\"http://www.w3.org/2000/svg\" height=\"24px\"viewBox=\"0 0 24 24\"\n",
              "       width=\"24px\">\n",
              "    <path d=\"M0 0h24v24H0V0z\" fill=\"none\"/>\n",
              "    <path d=\"M18.56 5.44l.94 2.06.94-2.06 2.06-.94-2.06-.94-.94-2.06-.94 2.06-2.06.94zm-11 1L8.5 8.5l.94-2.06 2.06-.94-2.06-.94L8.5 2.5l-.94 2.06-2.06.94zm10 10l.94 2.06.94-2.06 2.06-.94-2.06-.94-.94-2.06-.94 2.06-2.06.94z\"/><path d=\"M17.41 7.96l-1.37-1.37c-.4-.4-.92-.59-1.43-.59-.52 0-1.04.2-1.43.59L10.3 9.45l-7.72 7.72c-.78.78-.78 2.05 0 2.83L4 21.41c.39.39.9.59 1.41.59.51 0 1.02-.2 1.41-.59l7.78-7.78 2.81-2.81c.8-.78.8-2.07 0-2.86zM5.41 20L4 18.59l7.72-7.72 1.47 1.35L5.41 20z\"/>\n",
              "  </svg>\n",
              "      </button>\n",
              "      \n",
              "  <style>\n",
              "    .colab-df-container {\n",
              "      display:flex;\n",
              "      flex-wrap:wrap;\n",
              "      gap: 12px;\n",
              "    }\n",
              "\n",
              "    .colab-df-convert {\n",
              "      background-color: #E8F0FE;\n",
              "      border: none;\n",
              "      border-radius: 50%;\n",
              "      cursor: pointer;\n",
              "      display: none;\n",
              "      fill: #1967D2;\n",
              "      height: 32px;\n",
              "      padding: 0 0 0 0;\n",
              "      width: 32px;\n",
              "    }\n",
              "\n",
              "    .colab-df-convert:hover {\n",
              "      background-color: #E2EBFA;\n",
              "      box-shadow: 0px 1px 2px rgba(60, 64, 67, 0.3), 0px 1px 3px 1px rgba(60, 64, 67, 0.15);\n",
              "      fill: #174EA6;\n",
              "    }\n",
              "\n",
              "    [theme=dark] .colab-df-convert {\n",
              "      background-color: #3B4455;\n",
              "      fill: #D2E3FC;\n",
              "    }\n",
              "\n",
              "    [theme=dark] .colab-df-convert:hover {\n",
              "      background-color: #434B5C;\n",
              "      box-shadow: 0px 1px 3px 1px rgba(0, 0, 0, 0.15);\n",
              "      filter: drop-shadow(0px 1px 2px rgba(0, 0, 0, 0.3));\n",
              "      fill: #FFFFFF;\n",
              "    }\n",
              "  </style>\n",
              "\n",
              "      <script>\n",
              "        const buttonEl =\n",
              "          document.querySelector('#df-a8fc5930-85a6-49ad-b6e7-339cf40f78d8 button.colab-df-convert');\n",
              "        buttonEl.style.display =\n",
              "          google.colab.kernel.accessAllowed ? 'block' : 'none';\n",
              "\n",
              "        async function convertToInteractive(key) {\n",
              "          const element = document.querySelector('#df-a8fc5930-85a6-49ad-b6e7-339cf40f78d8');\n",
              "          const dataTable =\n",
              "            await google.colab.kernel.invokeFunction('convertToInteractive',\n",
              "                                                     [key], {});\n",
              "          if (!dataTable) return;\n",
              "\n",
              "          const docLinkHtml = 'Like what you see? Visit the ' +\n",
              "            '<a target=\"_blank\" href=https://colab.research.google.com/notebooks/data_table.ipynb>data table notebook</a>'\n",
              "            + ' to learn more about interactive tables.';\n",
              "          element.innerHTML = '';\n",
              "          dataTable['output_type'] = 'display_data';\n",
              "          await google.colab.output.renderOutput(dataTable, element);\n",
              "          const docLink = document.createElement('div');\n",
              "          docLink.innerHTML = docLinkHtml;\n",
              "          element.appendChild(docLink);\n",
              "        }\n",
              "      </script>\n",
              "    </div>\n",
              "  </div>\n",
              "  "
            ],
            "text/plain": [
              "       capital-gains   capital-loss  incident_hour_of_the_day  \\\n",
              "count    1000.000000    1000.000000               1000.000000   \n",
              "mean    25126.100000  -26793.700000                 11.644000   \n",
              "std     27872.187708   28104.096686                  6.951373   \n",
              "min         0.000000 -111100.000000                  0.000000   \n",
              "25%         0.000000  -51500.000000                  6.000000   \n",
              "50%         0.000000  -23250.000000                 12.000000   \n",
              "75%     51025.000000       0.000000                 17.000000   \n",
              "max    100500.000000       0.000000                 23.000000   \n",
              "\n",
              "       number_of_vehicles_involved    witnesses  total_claim_amount  \\\n",
              "count                   1000.00000  1000.000000          1000.00000   \n",
              "mean                       1.83900     1.487000         52761.94000   \n",
              "std                        1.01888     1.111335         26401.53319   \n",
              "min                        1.00000     0.000000           100.00000   \n",
              "25%                        1.00000     1.000000         41812.50000   \n",
              "50%                        1.00000     1.000000         58055.00000   \n",
              "75%                        3.00000     2.000000         70592.50000   \n",
              "max                        4.00000     3.000000        114920.00000   \n",
              "\n",
              "       fraud_reported  insured_sex_FEMALE  insured_sex_MALE  \\\n",
              "count     1000.000000         1000.000000       1000.000000   \n",
              "mean         0.247000            0.537000          0.463000   \n",
              "std          0.431483            0.498879          0.498879   \n",
              "min          0.000000            0.000000          0.000000   \n",
              "25%          0.000000            0.000000          0.000000   \n",
              "50%          0.000000            1.000000          0.000000   \n",
              "75%          0.000000            1.000000          1.000000   \n",
              "max          1.000000            1.000000          1.000000   \n",
              "\n",
              "       insured_occupation_adm-clerical  ...  \\\n",
              "count                      1000.000000  ...   \n",
              "mean                          0.065000  ...   \n",
              "std                           0.246649  ...   \n",
              "min                           0.000000  ...   \n",
              "25%                           0.000000  ...   \n",
              "50%                           0.000000  ...   \n",
              "75%                           0.000000  ...   \n",
              "max                           1.000000  ...   \n",
              "\n",
              "       months_as_customer_groups_301-350  months_as_customer_groups_351-400  \\\n",
              "count                        1000.000000                        1000.000000   \n",
              "mean                            0.080000                           0.043000   \n",
              "std                             0.271429                           0.202959   \n",
              "min                             0.000000                           0.000000   \n",
              "25%                             0.000000                           0.000000   \n",
              "50%                             0.000000                           0.000000   \n",
              "75%                             0.000000                           0.000000   \n",
              "max                             1.000000                           1.000000   \n",
              "\n",
              "       months_as_customer_groups_401-450  months_as_customer_groups_451-500  \\\n",
              "count                         1000.00000                        1000.000000   \n",
              "mean                             0.04200                           0.047000   \n",
              "std                              0.20069                           0.211745   \n",
              "min                              0.00000                           0.000000   \n",
              "25%                              0.00000                           0.000000   \n",
              "50%                              0.00000                           0.000000   \n",
              "75%                              0.00000                           0.000000   \n",
              "max                              1.00000                           1.000000   \n",
              "\n",
              "       months_as_customer_groups_51-100  policy_annual_premium_groups_high  \\\n",
              "count                         1000.0000                        1000.000000   \n",
              "mean                             0.1020                           0.153000   \n",
              "std                              0.3028                           0.360168   \n",
              "min                              0.0000                           0.000000   \n",
              "25%                              0.0000                           0.000000   \n",
              "50%                              0.0000                           0.000000   \n",
              "75%                              0.0000                           0.000000   \n",
              "max                              1.0000                           1.000000   \n",
              "\n",
              "       policy_annual_premium_groups_low  policy_annual_premium_groups_medium  \\\n",
              "count                       1000.000000                           1000.00000   \n",
              "mean                           0.151000                              0.69300   \n",
              "std                            0.358228                              0.46148   \n",
              "min                            0.000000                              0.00000   \n",
              "25%                            0.000000                              0.00000   \n",
              "50%                            0.000000                              1.00000   \n",
              "75%                            0.000000                              1.00000   \n",
              "max                            1.000000                              1.00000   \n",
              "\n",
              "       policy_annual_premium_groups_very high  \\\n",
              "count                             1000.000000   \n",
              "mean                                 0.001000   \n",
              "std                                  0.031623   \n",
              "min                                  0.000000   \n",
              "25%                                  0.000000   \n",
              "50%                                  0.000000   \n",
              "75%                                  0.000000   \n",
              "max                                  1.000000   \n",
              "\n",
              "       policy_annual_premium_groups_very low  \n",
              "count                            1000.000000  \n",
              "mean                                0.002000  \n",
              "std                                 0.044699  \n",
              "min                                 0.000000  \n",
              "25%                                 0.000000  \n",
              "50%                                 0.000000  \n",
              "75%                                 0.000000  \n",
              "max                                 1.000000  \n",
              "\n",
              "[8 rows x 68 columns]"
            ]
          },
          "execution_count": 7,
          "metadata": {},
          "output_type": "execute_result"
        }
      ],
      "source": [
        "# 데이터집합의 통계적 특성 조회\n",
        "data.describe()"
      ]
    },
    {
      "cell_type": "code",
      "execution_count": 8,
      "metadata": {
        "colab": {
          "base_uri": "https://localhost:8080/"
        },
        "id": "0j7yZNrMkPlv",
        "outputId": "4b606c7b-90f4-4cd4-9046-94d37e18c7b0"
      },
      "outputs": [
        {
          "data": {
            "text/plain": [
              "array([1, 0])"
            ]
          },
          "execution_count": 8,
          "metadata": {},
          "output_type": "execute_result"
        }
      ],
      "source": [
        "# 목표 열인 fraud_reported의 고유값 확인\n",
        "data['fraud_reported'].unique()"
      ]
    },
    {
      "cell_type": "code",
      "execution_count": 9,
      "metadata": {
        "colab": {
          "base_uri": "https://localhost:8080/",
          "height": 283
        },
        "id": "_AdAJTRDkPlv",
        "outputId": "c8c03489-7b3b-4356-d4a9-b11657557b7d"
      },
      "outputs": [
        {
          "data": {
            "text/plain": [
              "<matplotlib.axes._subplots.AxesSubplot at 0x7fe39985ff90>"
            ]
          },
          "execution_count": 9,
          "metadata": {},
          "output_type": "execute_result"
        },
        {
          "data": {
            "image/png": "[encoded data removed]",
            "text/plain": [
              "<Figure size 432x288 with 1 Axes>"
            ]
          },
          "metadata": {
            "needs_background": "light"
          },
          "output_type": "display_data"
        }
      ],
      "source": [
        "# fraud_reported 열의 0과 1의 분포 확인\n",
        "data['fraud_reported'].value_counts().plot.bar(rot=0)"
      ]
    },
    {
      "cell_type": "markdown",
      "metadata": {
        "id": "qgIIzCHdtEi7"
      },
      "source": [
        "## 3. 데이터 준비와 분할"
      ]
    },
    {
      "cell_type": "code",
      "execution_count": 10,
      "metadata": {
        "id": "mUOC9rGjkPl3"
      },
      "outputs": [],
      "source": [
        "# feature와 label로 구분\n",
        "X = data.drop(['fraud_reported'], axis=1)\n",
        "y = data.fraud_reported"
      ]
    },
    {
      "cell_type": "code",
      "execution_count": 11,
      "metadata": {
        "id": "LFHFqsiYkPl3"
      },
      "outputs": [],
      "source": [
        "# 데이터를 학습용과 시험용으로 분할\n",
        "X_train, X_test, y_train, y_test = train_test_split(\n",
        "    StandardScaler().fit_transform(X), y, random_state=1)"
      ]
    },
    {
      "cell_type": "markdown",
      "metadata": {
        "id": "AkOtValGkPl3"
      },
      "source": [
        "## 4. 분류기 모델 생성"
      ]
    },
    {
      "cell_type": "code",
      "execution_count": 12,
      "metadata": {
        "colab": {
          "base_uri": "https://localhost:8080/"
        },
        "id": "1cmtQ3eDkPl4",
        "outputId": "a6e21aa4-e38a-456a-9d67-ffeb143b87b7"
      },
      "outputs": [
        {
          "name": "stderr",
          "output_type": "stream",
          "text": [
            "[flaml.automl: 07-29 14:05:27] {2427} INFO - task = classification\n",
            "[flaml.automl: 07-29 14:05:27] {2429} INFO - Data split method: stratified\n",
            "[flaml.automl: 07-29 14:05:27] {2432} INFO - Evaluation method: holdout\n",
            "[flaml.automl: 07-29 14:05:27] {2551} INFO - Minimizing error metric: 1-roc_auc\n",
            "[flaml.automl: 07-29 14:05:27] {2600} WARNING - No search budget is provided via time_budget or max_iter. Training only one model per estimator. To tune hyperparameters for each estimator, please provide budget either via time_budget or max_iter.\n",
            "[flaml.automl: 07-29 14:05:27] {160} WARNING - Starting points outside of the search space are removed. Remaining starting points: []\n",
            "[flaml.automl: 07-29 14:05:27] {160} WARNING - Starting points outside of the search space are removed. Remaining starting points: []\n",
            "[flaml.automl: 07-29 14:05:27] {160} WARNING - Starting points outside of the search space are removed. Remaining starting points: []\n",
            "[flaml.automl: 07-29 14:05:27] {160} WARNING - Starting points outside of the search space are removed. Remaining starting points: []\n",
            "[flaml.automl: 07-29 14:05:27] {2691} INFO - List of ML learners in AutoML Run: ['rf', 'lgbm', 'catboost', 'xgboost', 'extra_tree', 'xgb_limitdepth', 'lrl1']\n",
            "[flaml.automl: 07-29 14:05:27] {2993} INFO - iteration 0, current learner rf\n",
            "[flaml.automl: 07-29 14:05:28] {3127} INFO - Estimated sufficient time budget=4586s. Estimated necessary time budget=56s.\n",
            "[flaml.automl: 07-29 14:05:28] {3179} INFO -  at 0.6s,\testimator rf's best error=0.2282,\tbest estimator rf's best error=0.2282\n",
            "[flaml.automl: 07-29 14:05:28] {2993} INFO - iteration 1, current learner lgbm\n",
            "[flaml.automl: 07-29 14:05:28] {3179} INFO -  at 0.6s,\testimator lgbm's best error=0.2250,\tbest estimator lgbm's best error=0.2250\n",
            "[flaml.automl: 07-29 14:05:28] {2993} INFO - iteration 2, current learner catboost\n",
            "[flaml.automl: 07-29 14:05:28] {3179} INFO -  at 0.8s,\testimator catboost's best error=0.2341,\tbest estimator lgbm's best error=0.2250\n",
            "[flaml.automl: 07-29 14:05:28] {2993} INFO - iteration 3, current learner xgboost\n",
            "[flaml.automl: 07-29 14:05:28] {3179} INFO -  at 0.8s,\testimator xgboost's best error=0.2323,\tbest estimator lgbm's best error=0.2250\n",
            "[flaml.automl: 07-29 14:05:28] {2993} INFO - iteration 4, current learner extra_tree\n",
            "[flaml.automl: 07-29 14:05:29] {3179} INFO -  at 1.1s,\testimator extra_tree's best error=0.1965,\tbest estimator extra_tree's best error=0.1965\n",
            "[flaml.automl: 07-29 14:05:29] {2993} INFO - iteration 5, current learner xgb_limitdepth\n",
            "[flaml.automl: 07-29 14:05:29] {3179} INFO -  at 1.2s,\testimator xgb_limitdepth's best error=0.2486,\tbest estimator extra_tree's best error=0.1965\n",
            "[flaml.automl: 07-29 14:05:29] {2993} INFO - iteration 6, current learner lrl1\n",
            "/usr/local/lib/python3.7/dist-packages/sklearn/linear_model/_sag.py:354: ConvergenceWarning: The max_iter was reached which means the coef_ did not converge\n",
            "  ConvergenceWarning,\n",
            "[flaml.automl: 07-29 14:05:29] {3179} INFO -  at 1.4s,\testimator lrl1's best error=0.2223,\tbest estimator extra_tree's best error=0.1965\n",
            "[flaml.automl: 07-29 14:05:29] {3439} INFO - retrain extra_tree for 0.2s\n",
            "[flaml.automl: 07-29 14:05:29] {3444} INFO - retrained model: ExtraTreesClassifier(criterion='entropy', max_features=0.12216944435630522,\n",
            "                     max_leaf_nodes=4, n_estimators=4, n_jobs=-1)\n",
            "[flaml.automl: 07-29 14:05:29] {2722} INFO - fit succeeded\n",
            "[flaml.automl: 07-29 14:05:29] {2724} INFO - Time taken to find the best model: 1.147263765335083\n"
          ]
        }
      ],
      "source": [
        "# AutoML 도구인 FLAML을 사용하여 최적 모델 자동 판별\n",
        "aml1 = flaml.AutoML()\n",
        "aml1.fit(X_train, y_train, task=\"classification\")"
      ]
    },
    {
      "cell_type": "markdown",
      "metadata": {
        "id": "FW0DA_VikPl4"
      },
      "source": [
        "## 5. 평가"
      ]
    },
    {
      "cell_type": "markdown",
      "metadata": {
        "id": "2ATlWE2k9s18"
      },
      "source": [
        "머신러닝 알고리즘의 정확도는 알고리즘이 얼마나 잘 수행되고 있는지, 즉 알고리즘이 데이터 포인트를 올바르게 분류하는 빈도를 측정하는 것입니다. 정확도는 다음과 같이 주어집니다:\n",
        "![정확도](https://miro.medium.com/max/1050/1*O5eXoV-SePhZ30AbCikXHw.png)\n",
        "정밀도는 관련성 있는 결과의 %를 의미하고, 재현율은 알고리즘에 의해 올바르게 분류된 전체 관련 결과의 %를 의미합니다.\n",
        "![Precision and Recall](https://miro.medium.com/max/1050/1*pOtBHai4jFd-ujaNXPilRg.png)\n",
        "True positive: 모델이 긍정 클래스를 올바르게 예측합니다.<br>\n",
        "True negative: 모델이 부정 클래스를 올바르게 예측합니다.<br>\n",
        "False positiv: 모델이 긍정 클래스를 잘못 예측합니다.<br>\n",
        "False negative: 모델이 부정 클래스를 잘못 예측합니다"
      ]
    },
    {
      "cell_type": "code",
      "execution_count": 13,
      "metadata": {
        "colab": {
          "base_uri": "https://localhost:8080/"
        },
        "id": "w5x0qDa3kPl4",
        "outputId": "76d03b6c-a430-4313-8254-35b27165196b"
      },
      "outputs": [
        {
          "data": {
            "text/plain": [
              "array([0, 0, 0, 0, 0, 0, 0, 0, 0, 0, 0, 0, 0, 0, 0, 0, 0, 0, 1, 0, 0, 0,\n",
              "       0, 0, 0, 0, 0, 0, 0, 1, 0, 0, 0, 0, 1, 0, 0, 0, 0, 0, 1, 0, 0, 0,\n",
              "       0, 0, 0, 1, 0, 0, 0, 0, 0, 0, 0, 0, 0, 0, 0, 0, 0, 0, 0, 0, 0, 1,\n",
              "       0, 0, 0, 0, 1, 0, 0, 0, 0, 1, 0, 0, 0, 1, 0, 0, 0, 0, 0, 0, 0, 0,\n",
              "       0, 0, 0, 0, 0, 0, 0, 0, 0, 0, 0, 0, 0, 0, 0, 0, 0, 0, 0, 0, 0, 0,\n",
              "       0, 1, 0, 0, 1, 0, 0, 0, 0, 0, 0, 0, 0, 0, 1, 0, 0, 0, 0, 0, 0, 0,\n",
              "       0, 0, 0, 0, 0, 0, 0, 0, 0, 0, 0, 0, 0, 0, 0, 0, 0, 1, 0, 0, 0, 0,\n",
              "       1, 0, 1, 0, 0, 0, 0, 0, 0, 0, 0, 0, 0, 1, 0, 0, 0, 0, 0, 0, 0, 0,\n",
              "       0, 0, 0, 0, 0, 0, 0, 0, 0, 0, 0, 0, 0, 0, 0, 0, 0, 0, 0, 0, 0, 0,\n",
              "       0, 0, 0, 0, 0, 0, 0, 0, 0, 0, 1, 0, 0, 0, 0, 0, 0, 0, 0, 0, 0, 0,\n",
              "       0, 0, 0, 0, 0, 0, 0, 0, 0, 0, 0, 0, 0, 1, 1, 0, 1, 0, 0, 0, 0, 0,\n",
              "       0, 1, 0, 0, 0, 0, 0, 0])"
            ]
          },
          "execution_count": 13,
          "metadata": {},
          "output_type": "execute_result"
        }
      ],
      "source": [
        "y_pred = aml1.predict(X_test)\n",
        "y_pred"
      ]
    },
    {
      "cell_type": "code",
      "execution_count": 14,
      "metadata": {
        "colab": {
          "base_uri": "https://localhost:8080/"
        },
        "id": "lZ-RQ6XfkPl5",
        "outputId": "ecd3605f-e019-4589-8db7-d244a8aae0e0"
      },
      "outputs": [
        {
          "name": "stdout",
          "output_type": "stream",
          "text": [
            "              precision    recall  f1-score   support\n",
            "\n",
            "           0       0.78      0.99      0.87       180\n",
            "           1       0.90      0.27      0.42        70\n",
            "\n",
            "    accuracy                           0.79       250\n",
            "   macro avg       0.84      0.63      0.64       250\n",
            "weighted avg       0.81      0.79      0.74       250\n",
            "\n"
          ]
        }
      ],
      "source": [
        "print(classification_report(y_test, y_pred))"
      ]
    },
    {
      "cell_type": "code",
      "execution_count": 15,
      "metadata": {
        "colab": {
          "base_uri": "https://localhost:8080/"
        },
        "id": "Ix-O5N0G52_D",
        "outputId": "c2237db3-5f16-4bf9-c485-40a72a4ab094"
      },
      "outputs": [
        {
          "data": {
            "text/plain": [
              "('extra_tree',\n",
              " {'criterion': 'entropy',\n",
              "  'max_features': 0.12216944435630522,\n",
              "  'max_leaves': 4,\n",
              "  'n_estimators': 4})"
            ]
          },
          "execution_count": 15,
          "metadata": {},
          "output_type": "execute_result"
        }
      ],
      "source": [
        "# 판별된 최적 알고리듬과 하이퍼매개변수\n",
        "aml1.best_estimator, aml1.best_config"
      ]
    },
    {
      "cell_type": "markdown",
      "metadata": {
        "id": "zyU5uGyhkPl5"
      },
      "source": [
        "## 6. 더 좋은 모델 찾기"
      ]
    },
    {
      "cell_type": "code",
      "execution_count": 16,
      "metadata": {
        "colab": {
          "base_uri": "https://localhost:8080/"
        },
        "id": "2rqPdv7xkPl5",
        "outputId": "3fa56a55-e19a-4047-fe77-8a0812a09f05"
      },
      "outputs": [
        {
          "name": "stderr",
          "output_type": "stream",
          "text": [
            "/usr/local/lib/python3.7/dist-packages/sklearn/linear_model/_sag.py:354: ConvergenceWarning: The max_iter was reached which means the coef_ did not converge\n",
            "  ConvergenceWarning,\n",
            "/usr/local/lib/python3.7/dist-packages/sklearn/linear_model/_sag.py:354: ConvergenceWarning: The max_iter was reached which means the coef_ did not converge\n",
            "  ConvergenceWarning,\n"
          ]
        },
        {
          "name": "stdout",
          "output_type": "stream",
          "text": [
            "              precision    recall  f1-score   support\n",
            "\n",
            "           0       0.89      0.87      0.88       180\n",
            "           1       0.69      0.73      0.71        70\n",
            "\n",
            "    accuracy                           0.83       250\n",
            "   macro avg       0.79      0.80      0.80       250\n",
            "weighted avg       0.84      0.83      0.83       250\n",
            "\n"
          ]
        }
      ],
      "source": [
        "# 더 많은 시간을 투입하여 성능이 더 좋은 모델 탐색 시도\n",
        "aml2 = flaml.AutoML()\n",
        "aml2.fit(X_train, y_train, task=\"classification\", time_budget=60, verbose=False)\n",
        "\n",
        "y_pred = aml2.predict(X_test)\n",
        "print(classification_report(y_test, y_pred))"
      ]
    },
    {
      "cell_type": "code",
      "execution_count": 17,
      "metadata": {
        "colab": {
          "base_uri": "https://localhost:8080/"
        },
        "id": "k67ctk-e5hbi",
        "outputId": "8645b6f4-8969-413e-d7c7-920d32d7c6b5"
      },
      "outputs": [
        {
          "data": {
            "text/plain": [
              "('xgb_limitdepth',\n",
              " {'colsample_bylevel': 0.847756342161632,\n",
              "  'colsample_bytree': 0.8668431975640492,\n",
              "  'learning_rate': 0.05999296193433197,\n",
              "  'max_depth': 7,\n",
              "  'min_child_weight': 3.750118053002884,\n",
              "  'n_estimators': 23,\n",
              "  'reg_alpha': 0.0015245843735931766,\n",
              "  'reg_lambda': 0.14019979280744393,\n",
              "  'subsample': 0.8895588746662894})"
            ]
          },
          "execution_count": 17,
          "metadata": {},
          "output_type": "execute_result"
        }
      ],
      "source": [
        "aml2.best_estimator, aml2.best_config"
      ]
    },
    {
      "cell_type": "markdown",
      "metadata": {
        "id": "JutdeKcQkPl6"
      },
      "source": [
        "## 결론\n",
        "\n",
        "인공 지능은 다양한 현대 사회의 문제를 해결하는데 널리 사용되고 있습니다. 분류는 인공지능에서 다루는 대표적인 지도학습 문제 유형입니다. 이 실험에서는 분류 문제의 사례인 보험사기 탐지에 인공 지능을 사용하는 방법의 \n",
        "예를 보았습니다. 같은 목적으로 다른 모델을 사용할 수도 있습니다."
      ]
    }
  ],
  "metadata": {
    "colab": {
      "collapsed_sections": [],
      "name": "Module_8_(Insurance_Fraud_Detection).ipynb",
      "provenance": []
    },
    "kernelspec": {
      "display_name": "Python 3.8.5 ('base')",
      "language": "python",
      "name": "python3"
    },
    "language_info": {
      "codemirror_mode": {
        "name": "ipython",
        "version": 3
      },
      "file_extension": ".py",
      "mimetype": "text/x-python",
      "name": "python",
      "nbconvert_exporter": "python",
      "pygments_lexer": "ipython3",
      "version": "3.8.5"
    },
    "toc": {
      "base_numbering": 1,
      "nav_menu": {},
      "number_sections": true,
      "sideBar": true,
      "skip_h1_title": false,
      "title_cell": "Table of Contents",
      "title_sidebar": "Contents",
      "toc_cell": false,
      "toc_position": {},
      "toc_section_display": true,
      "toc_window_display": false
    },
    "vscode": {
      "interpreter": {
        "hash": "925563f656975f3c1539e571bc5438640405dc9afd9ec87daa86319dfe46586d"
      }
    }
  },
  "nbformat": 4,
  "nbformat_minor": 0
}
